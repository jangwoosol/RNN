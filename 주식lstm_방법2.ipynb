{
  "nbformat": 4,
  "nbformat_minor": 0,
  "metadata": {
    "colab": {
      "name": "주식lstm 방법2",
      "provenance": [],
      "collapsed_sections": []
    },
    "kernelspec": {
      "name": "python3",
      "display_name": "Python 3"
    },
    "language_info": {
      "name": "python"
    }
  },
  "cells": [
    {
      "cell_type": "code",
      "metadata": {
        "colab": {
          "base_uri": "https://localhost:8080/"
        },
        "id": "B1x-NRf5M2Lr",
        "outputId": "e9794cea-8003-4b97-e6f2-2e367155fc87"
      },
      "source": [
        "! pip install pykrx \n",
        "\n",
        "from pykrx import stock\n",
        "\n",
        "import ipywidgets as widgets \n",
        "from ipywidgets import interact, interact_manual \n",
        "import pandas as pd\n",
        "import numpy as np \n",
        "import matplotlib.pyplot as plt \n",
        "%matplotlib inline \n",
        "\n",
        "data = stock.get_market_ohlcv_by_date(fromdate=\"20150104\", todate=\"20211202\", ticker=\"066570\")"
      ],
      "execution_count": null,
      "outputs": [
        {
          "output_type": "stream",
          "name": "stdout",
          "text": [
            "Requirement already satisfied: pykrx in /usr/local/lib/python3.7/dist-packages (1.0.29)\n",
            "Requirement already satisfied: pandas in /usr/local/lib/python3.7/dist-packages (from pykrx) (1.1.5)\n",
            "Requirement already satisfied: deprecated in /usr/local/lib/python3.7/dist-packages (from pykrx) (1.2.13)\n",
            "Requirement already satisfied: xlrd in /usr/local/lib/python3.7/dist-packages (from pykrx) (1.1.0)\n",
            "Requirement already satisfied: requests in /usr/local/lib/python3.7/dist-packages (from pykrx) (2.23.0)\n",
            "Requirement already satisfied: numpy in /usr/local/lib/python3.7/dist-packages (from pykrx) (1.19.5)\n",
            "Requirement already satisfied: datetime in /usr/local/lib/python3.7/dist-packages (from pykrx) (4.3)\n",
            "Requirement already satisfied: pytz in /usr/local/lib/python3.7/dist-packages (from datetime->pykrx) (2018.9)\n",
            "Requirement already satisfied: zope.interface in /usr/local/lib/python3.7/dist-packages (from datetime->pykrx) (5.4.0)\n",
            "Requirement already satisfied: wrapt<2,>=1.10 in /usr/local/lib/python3.7/dist-packages (from deprecated->pykrx) (1.13.3)\n",
            "Requirement already satisfied: python-dateutil>=2.7.3 in /usr/local/lib/python3.7/dist-packages (from pandas->pykrx) (2.8.2)\n",
            "Requirement already satisfied: six>=1.5 in /usr/local/lib/python3.7/dist-packages (from python-dateutil>=2.7.3->pandas->pykrx) (1.15.0)\n",
            "Requirement already satisfied: certifi>=2017.4.17 in /usr/local/lib/python3.7/dist-packages (from requests->pykrx) (2021.10.8)\n",
            "Requirement already satisfied: idna<3,>=2.5 in /usr/local/lib/python3.7/dist-packages (from requests->pykrx) (2.10)\n",
            "Requirement already satisfied: chardet<4,>=3.0.2 in /usr/local/lib/python3.7/dist-packages (from requests->pykrx) (3.0.4)\n",
            "Requirement already satisfied: urllib3!=1.25.0,!=1.25.1,<1.26,>=1.21.1 in /usr/local/lib/python3.7/dist-packages (from requests->pykrx) (1.24.3)\n",
            "Requirement already satisfied: setuptools in /usr/local/lib/python3.7/dist-packages (from zope.interface->datetime->pykrx) (57.4.0)\n"
          ]
        }
      ]
    },
    {
      "cell_type": "code",
      "metadata": {
        "colab": {
          "base_uri": "https://localhost:8080/",
          "height": 454
        },
        "id": "jqNxzy_erLNx",
        "outputId": "7ac03e12-321d-444d-94ae-97b3d77c251e"
      },
      "source": [
        "data"
      ],
      "execution_count": null,
      "outputs": [
        {
          "output_type": "execute_result",
          "data": {
            "text/html": [
              "<div>\n",
              "<style scoped>\n",
              "    .dataframe tbody tr th:only-of-type {\n",
              "        vertical-align: middle;\n",
              "    }\n",
              "\n",
              "    .dataframe tbody tr th {\n",
              "        vertical-align: top;\n",
              "    }\n",
              "\n",
              "    .dataframe thead th {\n",
              "        text-align: right;\n",
              "    }\n",
              "</style>\n",
              "<table border=\"1\" class=\"dataframe\">\n",
              "  <thead>\n",
              "    <tr style=\"text-align: right;\">\n",
              "      <th></th>\n",
              "      <th>시가</th>\n",
              "      <th>고가</th>\n",
              "      <th>저가</th>\n",
              "      <th>종가</th>\n",
              "      <th>거래량</th>\n",
              "    </tr>\n",
              "    <tr>\n",
              "      <th>날짜</th>\n",
              "      <th></th>\n",
              "      <th></th>\n",
              "      <th></th>\n",
              "      <th></th>\n",
              "      <th></th>\n",
              "    </tr>\n",
              "  </thead>\n",
              "  <tbody>\n",
              "    <tr>\n",
              "      <th>2015-01-05</th>\n",
              "      <td>58500</td>\n",
              "      <td>58900</td>\n",
              "      <td>57500</td>\n",
              "      <td>58400</td>\n",
              "      <td>379003</td>\n",
              "    </tr>\n",
              "    <tr>\n",
              "      <th>2015-01-06</th>\n",
              "      <td>58100</td>\n",
              "      <td>60500</td>\n",
              "      <td>57700</td>\n",
              "      <td>60100</td>\n",
              "      <td>799629</td>\n",
              "    </tr>\n",
              "    <tr>\n",
              "      <th>2015-01-07</th>\n",
              "      <td>59500</td>\n",
              "      <td>60600</td>\n",
              "      <td>59300</td>\n",
              "      <td>60000</td>\n",
              "      <td>703542</td>\n",
              "    </tr>\n",
              "    <tr>\n",
              "      <th>2015-01-08</th>\n",
              "      <td>60300</td>\n",
              "      <td>63000</td>\n",
              "      <td>60300</td>\n",
              "      <td>62200</td>\n",
              "      <td>1404924</td>\n",
              "    </tr>\n",
              "    <tr>\n",
              "      <th>2015-01-09</th>\n",
              "      <td>62600</td>\n",
              "      <td>63500</td>\n",
              "      <td>61600</td>\n",
              "      <td>61700</td>\n",
              "      <td>790827</td>\n",
              "    </tr>\n",
              "    <tr>\n",
              "      <th>...</th>\n",
              "      <td>...</td>\n",
              "      <td>...</td>\n",
              "      <td>...</td>\n",
              "      <td>...</td>\n",
              "      <td>...</td>\n",
              "    </tr>\n",
              "    <tr>\n",
              "      <th>2021-11-26</th>\n",
              "      <td>125500</td>\n",
              "      <td>126500</td>\n",
              "      <td>121500</td>\n",
              "      <td>122000</td>\n",
              "      <td>872482</td>\n",
              "    </tr>\n",
              "    <tr>\n",
              "      <th>2021-11-29</th>\n",
              "      <td>118000</td>\n",
              "      <td>122000</td>\n",
              "      <td>118000</td>\n",
              "      <td>119500</td>\n",
              "      <td>933062</td>\n",
              "    </tr>\n",
              "    <tr>\n",
              "      <th>2021-11-30</th>\n",
              "      <td>120500</td>\n",
              "      <td>122000</td>\n",
              "      <td>115000</td>\n",
              "      <td>115500</td>\n",
              "      <td>1809765</td>\n",
              "    </tr>\n",
              "    <tr>\n",
              "      <th>2021-12-01</th>\n",
              "      <td>116500</td>\n",
              "      <td>120000</td>\n",
              "      <td>115500</td>\n",
              "      <td>120000</td>\n",
              "      <td>851165</td>\n",
              "    </tr>\n",
              "    <tr>\n",
              "      <th>2021-12-02</th>\n",
              "      <td>118000</td>\n",
              "      <td>122000</td>\n",
              "      <td>118000</td>\n",
              "      <td>122000</td>\n",
              "      <td>725845</td>\n",
              "    </tr>\n",
              "  </tbody>\n",
              "</table>\n",
              "<p>1702 rows × 5 columns</p>\n",
              "</div>"
            ],
            "text/plain": [
              "                시가      고가      저가      종가      거래량\n",
              "날짜                                                 \n",
              "2015-01-05   58500   58900   57500   58400   379003\n",
              "2015-01-06   58100   60500   57700   60100   799629\n",
              "2015-01-07   59500   60600   59300   60000   703542\n",
              "2015-01-08   60300   63000   60300   62200  1404924\n",
              "2015-01-09   62600   63500   61600   61700   790827\n",
              "...            ...     ...     ...     ...      ...\n",
              "2021-11-26  125500  126500  121500  122000   872482\n",
              "2021-11-29  118000  122000  118000  119500   933062\n",
              "2021-11-30  120500  122000  115000  115500  1809765\n",
              "2021-12-01  116500  120000  115500  120000   851165\n",
              "2021-12-02  118000  122000  118000  122000   725845\n",
              "\n",
              "[1702 rows x 5 columns]"
            ]
          },
          "metadata": {},
          "execution_count": 15
        }
      ]
    },
    {
      "cell_type": "code",
      "metadata": {
        "colab": {
          "base_uri": "https://localhost:8080/",
          "height": 320
        },
        "id": "x3eMcunVM-go",
        "outputId": "ea2ecc0e-7a7a-4ec0-e942-32d2ab66b2a2"
      },
      "source": [
        "#y 확인\n",
        "plt.figure(figsize=(10,5))\n",
        "plt.plot(data['종가'])\n",
        "plt.show()"
      ],
      "execution_count": null,
      "outputs": [
        {
          "output_type": "display_data",
          "data": {
            "image/png": "[encoded data removed]",
            "text/plain": [
              "<Figure size 720x360 with 1 Axes>"
            ]
          },
          "metadata": {
            "needs_background": "light"
          }
        }
      ]
    },
    {
      "cell_type": "code",
      "metadata": {
        "colab": {
          "base_uri": "https://localhost:8080/"
        },
        "id": "T-dVtbZtz0oG",
        "outputId": "ed59e698-1d77-4c4c-a56b-2153af751c81"
      },
      "source": [
        "def make_datasetshape(feature_np,label_np, window_size):\n",
        "  feature_list=[]\n",
        "  label_list=[]\n",
        "  for i in range(len(feature_np)-window_size):\n",
        "    feature_list.append(feature_np[i:i+window_size])\n",
        "    label_list.append(label_np[i+window_size])\n",
        "  return np.array(feature_list), np.array(label_list)\n",
        "\n",
        "#window_size는 40으로 지정해둔다.\n",
        "window_size=40\n",
        "X, Y= make_datasetshape(feature_np, label_np, window_size)\n",
        "print(X.shape, Y.shape)"
      ],
      "execution_count": null,
      "outputs": [
        {
          "output_type": "stream",
          "name": "stdout",
          "text": [
            "(1662, 40, 5) (1662, 1)\n"
          ]
        }
      ]
    },
    {
      "cell_type": "code",
      "metadata": {
        "id": "8bXSsGbG72V7"
      },
      "source": [
        "#train test 0.7 0.3 비율로 나눈다.\n",
        "len_train=int(len(X)*0.7)\n",
        "x_train=X[0:len_train]\n",
        "y_train=Y[0:len_train]\n",
        "x_test=X[len_train:]\n",
        "y_test=Y[len_train:]"
      ],
      "execution_count": null,
      "outputs": []
    },
    {
      "cell_type": "code",
      "metadata": {
        "colab": {
          "base_uri": "https://localhost:8080/"
        },
        "id": "x9kH79qt90_m",
        "outputId": "3faeac64-1545-4518-b49a-ddc9128842b0"
      },
      "source": [
        "#모델 구현\n",
        "import tensorflow as tf\n",
        "import numpy as np\n",
        "from tensorflow.keras.layers import LSTM, Dense\n",
        "from tensorflow.keras import Sequential\n",
        "model=Sequential()\n",
        "model.add(LSTM(128,return_sequences=True, input_shape=x_train[0].shape))\n",
        "model.add(LSTM(128,return_sequences=True))\n",
        "model.add(LSTM(128))\n",
        "model.add(Dense(1,activation='linear'))\n",
        "model.summary()"
      ],
      "execution_count": null,
      "outputs": [
        {
          "output_type": "stream",
          "name": "stdout",
          "text": [
            "Model: \"sequential_2\"\n",
            "_________________________________________________________________\n",
            " Layer (type)                Output Shape              Param #   \n",
            "=================================================================\n",
            " lstm_2 (LSTM)               (None, 40, 128)           68608     \n",
            "                                                                 \n",
            " lstm_3 (LSTM)               (None, 40, 128)           131584    \n",
            "                                                                 \n",
            " lstm_4 (LSTM)               (None, 128)               131584    \n",
            "                                                                 \n",
            " dense_2 (Dense)             (None, 1)                 129       \n",
            "                                                                 \n",
            "=================================================================\n",
            "Total params: 331,905\n",
            "Trainable params: 331,905\n",
            "Non-trainable params: 0\n",
            "_________________________________________________________________\n"
          ]
        }
      ]
    },
    {
      "cell_type": "code",
      "metadata": {
        "colab": {
          "base_uri": "https://localhost:8080/"
        },
        "id": "47U8wZO1AEr3",
        "outputId": "f5288617-f7a8-4b0a-f3ae-e65cac13782e"
      },
      "source": [
        "from tensorflow.keras.callbacks import EarlyStopping\n",
        "model.compile(loss='mse', optimizer='adam',metrics=['mae'])\n",
        "early_stop=EarlyStopping(monitor='val_loss', patience=5)\n",
        "model.fit(x_train, y_train, epochs=100, batch_size=32, callbacks=[early_stop])"
      ],
      "execution_count": null,
      "outputs": [
        {
          "output_type": "stream",
          "name": "stdout",
          "text": [
            "Epoch 1/100\n",
            "37/37 [==============================] - ETA: 0s - loss: 0.0034 - mae: 0.0376WARNING:tensorflow:Early stopping conditioned on metric `val_loss` which is not available. Available metrics are: loss,mae\n",
            "37/37 [==============================] - 11s 139ms/step - loss: 0.0034 - mae: 0.0376\n",
            "Epoch 2/100\n",
            "37/37 [==============================] - ETA: 0s - loss: 7.0564e-04 - mae: 0.0207WARNING:tensorflow:Early stopping conditioned on metric `val_loss` which is not available. Available metrics are: loss,mae\n",
            "37/37 [==============================] - 5s 142ms/step - loss: 7.0564e-04 - mae: 0.0207\n",
            "Epoch 3/100\n",
            "37/37 [==============================] - ETA: 0s - loss: 5.7723e-04 - mae: 0.0188WARNING:tensorflow:Early stopping conditioned on metric `val_loss` which is not available. Available metrics are: loss,mae\n",
            "37/37 [==============================] - 5s 141ms/step - loss: 5.7723e-04 - mae: 0.0188\n",
            "Epoch 4/100\n",
            "37/37 [==============================] - ETA: 0s - loss: 5.1730e-04 - mae: 0.0175WARNING:tensorflow:Early stopping conditioned on metric `val_loss` which is not available. Available metrics are: loss,mae\n",
            "37/37 [==============================] - 5s 141ms/step - loss: 5.1730e-04 - mae: 0.0175\n",
            "Epoch 5/100\n",
            "37/37 [==============================] - ETA: 0s - loss: 4.6639e-04 - mae: 0.0165WARNING:tensorflow:Early stopping conditioned on metric `val_loss` which is not available. Available metrics are: loss,mae\n",
            "37/37 [==============================] - 5s 142ms/step - loss: 4.6639e-04 - mae: 0.0165\n",
            "Epoch 6/100\n",
            "37/37 [==============================] - ETA: 0s - loss: 3.8633e-04 - mae: 0.0153WARNING:tensorflow:Early stopping conditioned on metric `val_loss` which is not available. Available metrics are: loss,mae\n",
            "37/37 [==============================] - 5s 139ms/step - loss: 3.8633e-04 - mae: 0.0153\n",
            "Epoch 7/100\n",
            "37/37 [==============================] - ETA: 0s - loss: 3.7272e-04 - mae: 0.0150WARNING:tensorflow:Early stopping conditioned on metric `val_loss` which is not available. Available metrics are: loss,mae\n",
            "37/37 [==============================] - 5s 139ms/step - loss: 3.7272e-04 - mae: 0.0150\n",
            "Epoch 8/100\n",
            "37/37 [==============================] - ETA: 0s - loss: 3.5153e-04 - mae: 0.0143WARNING:tensorflow:Early stopping conditioned on metric `val_loss` which is not available. Available metrics are: loss,mae\n",
            "37/37 [==============================] - 5s 141ms/step - loss: 3.5153e-04 - mae: 0.0143\n",
            "Epoch 9/100\n",
            "37/37 [==============================] - ETA: 0s - loss: 3.5885e-04 - mae: 0.0145WARNING:tensorflow:Early stopping conditioned on metric `val_loss` which is not available. Available metrics are: loss,mae\n",
            "37/37 [==============================] - 5s 139ms/step - loss: 3.5885e-04 - mae: 0.0145\n",
            "Epoch 10/100\n",
            "37/37 [==============================] - ETA: 0s - loss: 3.4404e-04 - mae: 0.0142WARNING:tensorflow:Early stopping conditioned on metric `val_loss` which is not available. Available metrics are: loss,mae\n",
            "37/37 [==============================] - 5s 141ms/step - loss: 3.4404e-04 - mae: 0.0142\n",
            "Epoch 11/100\n",
            "37/37 [==============================] - ETA: 0s - loss: 3.5727e-04 - mae: 0.0145WARNING:tensorflow:Early stopping conditioned on metric `val_loss` which is not available. Available metrics are: loss,mae\n",
            "37/37 [==============================] - 5s 145ms/step - loss: 3.5727e-04 - mae: 0.0145\n",
            "Epoch 12/100\n",
            "37/37 [==============================] - ETA: 0s - loss: 2.9604e-04 - mae: 0.0132WARNING:tensorflow:Early stopping conditioned on metric `val_loss` which is not available. Available metrics are: loss,mae\n",
            "37/37 [==============================] - 5s 137ms/step - loss: 2.9604e-04 - mae: 0.0132\n",
            "Epoch 13/100\n",
            "37/37 [==============================] - ETA: 0s - loss: 2.8342e-04 - mae: 0.0130WARNING:tensorflow:Early stopping conditioned on metric `val_loss` which is not available. Available metrics are: loss,mae\n",
            "37/37 [==============================] - 5s 140ms/step - loss: 2.8342e-04 - mae: 0.0130\n",
            "Epoch 14/100\n",
            "37/37 [==============================] - ETA: 0s - loss: 2.6598e-04 - mae: 0.0124WARNING:tensorflow:Early stopping conditioned on metric `val_loss` which is not available. Available metrics are: loss,mae\n",
            "37/37 [==============================] - 5s 139ms/step - loss: 2.6598e-04 - mae: 0.0124\n",
            "Epoch 15/100\n",
            "37/37 [==============================] - ETA: 0s - loss: 2.6198e-04 - mae: 0.0123WARNING:tensorflow:Early stopping conditioned on metric `val_loss` which is not available. Available metrics are: loss,mae\n",
            "37/37 [==============================] - 5s 138ms/step - loss: 2.6198e-04 - mae: 0.0123\n",
            "Epoch 16/100\n",
            "37/37 [==============================] - ETA: 0s - loss: 2.8138e-04 - mae: 0.0127WARNING:tensorflow:Early stopping conditioned on metric `val_loss` which is not available. Available metrics are: loss,mae\n",
            "37/37 [==============================] - 5s 145ms/step - loss: 2.8138e-04 - mae: 0.0127\n",
            "Epoch 17/100\n",
            "37/37 [==============================] - ETA: 0s - loss: 2.3720e-04 - mae: 0.0117WARNING:tensorflow:Early stopping conditioned on metric `val_loss` which is not available. Available metrics are: loss,mae\n",
            "37/37 [==============================] - 6s 150ms/step - loss: 2.3720e-04 - mae: 0.0117\n",
            "Epoch 18/100\n",
            "37/37 [==============================] - ETA: 0s - loss: 2.7422e-04 - mae: 0.0125WARNING:tensorflow:Early stopping conditioned on metric `val_loss` which is not available. Available metrics are: loss,mae\n",
            "37/37 [==============================] - 5s 141ms/step - loss: 2.7422e-04 - mae: 0.0125\n",
            "Epoch 19/100\n",
            "37/37 [==============================] - ETA: 0s - loss: 2.6016e-04 - mae: 0.0123WARNING:tensorflow:Early stopping conditioned on metric `val_loss` which is not available. Available metrics are: loss,mae\n",
            "37/37 [==============================] - 5s 140ms/step - loss: 2.6016e-04 - mae: 0.0123\n",
            "Epoch 20/100\n",
            "37/37 [==============================] - ETA: 0s - loss: 2.8293e-04 - mae: 0.0128WARNING:tensorflow:Early stopping conditioned on metric `val_loss` which is not available. Available metrics are: loss,mae\n",
            "37/37 [==============================] - 5s 140ms/step - loss: 2.8293e-04 - mae: 0.0128\n",
            "Epoch 21/100\n",
            "37/37 [==============================] - ETA: 0s - loss: 2.5636e-04 - mae: 0.0122WARNING:tensorflow:Early stopping conditioned on metric `val_loss` which is not available. Available metrics are: loss,mae\n",
            "37/37 [==============================] - 5s 138ms/step - loss: 2.5636e-04 - mae: 0.0122\n",
            "Epoch 22/100\n",
            "37/37 [==============================] - ETA: 0s - loss: 2.3362e-04 - mae: 0.0114WARNING:tensorflow:Early stopping conditioned on metric `val_loss` which is not available. Available metrics are: loss,mae\n",
            "37/37 [==============================] - 5s 146ms/step - loss: 2.3362e-04 - mae: 0.0114\n",
            "Epoch 23/100\n",
            "37/37 [==============================] - ETA: 0s - loss: 2.1116e-04 - mae: 0.0109WARNING:tensorflow:Early stopping conditioned on metric `val_loss` which is not available. Available metrics are: loss,mae\n",
            "37/37 [==============================] - 5s 146ms/step - loss: 2.1116e-04 - mae: 0.0109\n",
            "Epoch 24/100\n",
            "37/37 [==============================] - ETA: 0s - loss: 2.6265e-04 - mae: 0.0121WARNING:tensorflow:Early stopping conditioned on metric `val_loss` which is not available. Available metrics are: loss,mae\n",
            "37/37 [==============================] - 5s 140ms/step - loss: 2.6265e-04 - mae: 0.0121\n",
            "Epoch 25/100\n",
            "37/37 [==============================] - ETA: 0s - loss: 1.8204e-04 - mae: 0.0101WARNING:tensorflow:Early stopping conditioned on metric `val_loss` which is not available. Available metrics are: loss,mae\n",
            "37/37 [==============================] - 5s 141ms/step - loss: 1.8204e-04 - mae: 0.0101\n",
            "Epoch 26/100\n",
            "37/37 [==============================] - ETA: 0s - loss: 1.8405e-04 - mae: 0.0102WARNING:tensorflow:Early stopping conditioned on metric `val_loss` which is not available. Available metrics are: loss,mae\n",
            "37/37 [==============================] - 5s 139ms/step - loss: 1.8405e-04 - mae: 0.0102\n",
            "Epoch 27/100\n",
            "37/37 [==============================] - ETA: 0s - loss: 1.8431e-04 - mae: 0.0102WARNING:tensorflow:Early stopping conditioned on metric `val_loss` which is not available. Available metrics are: loss,mae\n",
            "37/37 [==============================] - 5s 140ms/step - loss: 1.8431e-04 - mae: 0.0102\n",
            "Epoch 28/100\n",
            "37/37 [==============================] - ETA: 0s - loss: 1.5662e-04 - mae: 0.0092WARNING:tensorflow:Early stopping conditioned on metric `val_loss` which is not available. Available metrics are: loss,mae\n",
            "37/37 [==============================] - 5s 145ms/step - loss: 1.5662e-04 - mae: 0.0092\n",
            "Epoch 29/100\n",
            "37/37 [==============================] - ETA: 0s - loss: 1.6408e-04 - mae: 0.0095WARNING:tensorflow:Early stopping conditioned on metric `val_loss` which is not available. Available metrics are: loss,mae\n",
            "37/37 [==============================] - 5s 143ms/step - loss: 1.6408e-04 - mae: 0.0095\n",
            "Epoch 30/100\n",
            "37/37 [==============================] - ETA: 0s - loss: 1.8449e-04 - mae: 0.0103WARNING:tensorflow:Early stopping conditioned on metric `val_loss` which is not available. Available metrics are: loss,mae\n",
            "37/37 [==============================] - 5s 143ms/step - loss: 1.8449e-04 - mae: 0.0103\n",
            "Epoch 31/100\n",
            "37/37 [==============================] - ETA: 0s - loss: 1.4902e-04 - mae: 0.0092WARNING:tensorflow:Early stopping conditioned on metric `val_loss` which is not available. Available metrics are: loss,mae\n",
            "37/37 [==============================] - 5s 145ms/step - loss: 1.4902e-04 - mae: 0.0092\n",
            "Epoch 32/100\n",
            "37/37 [==============================] - ETA: 0s - loss: 1.6666e-04 - mae: 0.0096WARNING:tensorflow:Early stopping conditioned on metric `val_loss` which is not available. Available metrics are: loss,mae\n",
            "37/37 [==============================] - 5s 144ms/step - loss: 1.6666e-04 - mae: 0.0096\n",
            "Epoch 33/100\n",
            "37/37 [==============================] - ETA: 0s - loss: 1.5483e-04 - mae: 0.0092WARNING:tensorflow:Early stopping conditioned on metric `val_loss` which is not available. Available metrics are: loss,mae\n",
            "37/37 [==============================] - 5s 141ms/step - loss: 1.5483e-04 - mae: 0.0092\n",
            "Epoch 34/100\n",
            "37/37 [==============================] - ETA: 0s - loss: 1.6701e-04 - mae: 0.0096WARNING:tensorflow:Early stopping conditioned on metric `val_loss` which is not available. Available metrics are: loss,mae\n",
            "37/37 [==============================] - 5s 138ms/step - loss: 1.6701e-04 - mae: 0.0096\n",
            "Epoch 35/100\n",
            "37/37 [==============================] - ETA: 0s - loss: 1.7514e-04 - mae: 0.0100WARNING:tensorflow:Early stopping conditioned on metric `val_loss` which is not available. Available metrics are: loss,mae\n",
            "37/37 [==============================] - 5s 143ms/step - loss: 1.7514e-04 - mae: 0.0100\n",
            "Epoch 36/100\n",
            "37/37 [==============================] - ETA: 0s - loss: 1.7435e-04 - mae: 0.0098WARNING:tensorflow:Early stopping conditioned on metric `val_loss` which is not available. Available metrics are: loss,mae\n",
            "37/37 [==============================] - 5s 144ms/step - loss: 1.7435e-04 - mae: 0.0098\n",
            "Epoch 37/100\n",
            "37/37 [==============================] - ETA: 0s - loss: 1.4431e-04 - mae: 0.0090WARNING:tensorflow:Early stopping conditioned on metric `val_loss` which is not available. Available metrics are: loss,mae\n",
            "37/37 [==============================] - 5s 140ms/step - loss: 1.4431e-04 - mae: 0.0090\n",
            "Epoch 38/100\n",
            "37/37 [==============================] - ETA: 0s - loss: 1.3479e-04 - mae: 0.0086WARNING:tensorflow:Early stopping conditioned on metric `val_loss` which is not available. Available metrics are: loss,mae\n",
            "37/37 [==============================] - 5s 138ms/step - loss: 1.3479e-04 - mae: 0.0086\n",
            "Epoch 39/100\n",
            "37/37 [==============================] - ETA: 0s - loss: 1.2686e-04 - mae: 0.0083WARNING:tensorflow:Early stopping conditioned on metric `val_loss` which is not available. Available metrics are: loss,mae\n",
            "37/37 [==============================] - 5s 144ms/step - loss: 1.2686e-04 - mae: 0.0083\n",
            "Epoch 40/100\n",
            "37/37 [==============================] - ETA: 0s - loss: 1.2404e-04 - mae: 0.0082WARNING:tensorflow:Early stopping conditioned on metric `val_loss` which is not available. Available metrics are: loss,mae\n",
            "37/37 [==============================] - 5s 143ms/step - loss: 1.2404e-04 - mae: 0.0082\n",
            "Epoch 41/100\n",
            "37/37 [==============================] - ETA: 0s - loss: 1.4074e-04 - mae: 0.0088WARNING:tensorflow:Early stopping conditioned on metric `val_loss` which is not available. Available metrics are: loss,mae\n",
            "37/37 [==============================] - 5s 147ms/step - loss: 1.4074e-04 - mae: 0.0088\n",
            "Epoch 42/100\n",
            "37/37 [==============================] - ETA: 0s - loss: 1.2479e-04 - mae: 0.0082WARNING:tensorflow:Early stopping conditioned on metric `val_loss` which is not available. Available metrics are: loss,mae\n",
            "37/37 [==============================] - 5s 146ms/step - loss: 1.2479e-04 - mae: 0.0082\n",
            "Epoch 43/100\n",
            "37/37 [==============================] - ETA: 0s - loss: 1.4692e-04 - mae: 0.0089WARNING:tensorflow:Early stopping conditioned on metric `val_loss` which is not available. Available metrics are: loss,mae\n",
            "37/37 [==============================] - 5s 141ms/step - loss: 1.4692e-04 - mae: 0.0089\n",
            "Epoch 44/100\n",
            "37/37 [==============================] - ETA: 0s - loss: 1.2688e-04 - mae: 0.0082WARNING:tensorflow:Early stopping conditioned on metric `val_loss` which is not available. Available metrics are: loss,mae\n",
            "37/37 [==============================] - 5s 140ms/step - loss: 1.2688e-04 - mae: 0.0082\n",
            "Epoch 45/100\n",
            "37/37 [==============================] - ETA: 0s - loss: 1.2956e-04 - mae: 0.0084WARNING:tensorflow:Early stopping conditioned on metric `val_loss` which is not available. Available metrics are: loss,mae\n",
            "37/37 [==============================] - 5s 145ms/step - loss: 1.2956e-04 - mae: 0.0084\n",
            "Epoch 46/100\n",
            "37/37 [==============================] - ETA: 0s - loss: 1.3647e-04 - mae: 0.0087WARNING:tensorflow:Early stopping conditioned on metric `val_loss` which is not available. Available metrics are: loss,mae\n",
            "37/37 [==============================] - 5s 139ms/step - loss: 1.3647e-04 - mae: 0.0087\n",
            "Epoch 47/100\n",
            "37/37 [==============================] - ETA: 0s - loss: 1.7846e-04 - mae: 0.0100WARNING:tensorflow:Early stopping conditioned on metric `val_loss` which is not available. Available metrics are: loss,mae\n",
            "37/37 [==============================] - 5s 144ms/step - loss: 1.7846e-04 - mae: 0.0100\n",
            "Epoch 48/100\n",
            "37/37 [==============================] - ETA: 0s - loss: 1.5624e-04 - mae: 0.0093WARNING:tensorflow:Early stopping conditioned on metric `val_loss` which is not available. Available metrics are: loss,mae\n",
            "37/37 [==============================] - 5s 141ms/step - loss: 1.5624e-04 - mae: 0.0093\n",
            "Epoch 49/100\n",
            "37/37 [==============================] - ETA: 0s - loss: 1.1598e-04 - mae: 0.0079WARNING:tensorflow:Early stopping conditioned on metric `val_loss` which is not available. Available metrics are: loss,mae\n",
            "37/37 [==============================] - 5s 137ms/step - loss: 1.1598e-04 - mae: 0.0079\n",
            "Epoch 50/100\n",
            "37/37 [==============================] - ETA: 0s - loss: 1.2374e-04 - mae: 0.0082WARNING:tensorflow:Early stopping conditioned on metric `val_loss` which is not available. Available metrics are: loss,mae\n",
            "37/37 [==============================] - 5s 141ms/step - loss: 1.2374e-04 - mae: 0.0082\n",
            "Epoch 51/100\n",
            "37/37 [==============================] - ETA: 0s - loss: 1.5092e-04 - mae: 0.0092WARNING:tensorflow:Early stopping conditioned on metric `val_loss` which is not available. Available metrics are: loss,mae\n",
            "37/37 [==============================] - 5s 144ms/step - loss: 1.5092e-04 - mae: 0.0092\n",
            "Epoch 52/100\n",
            "37/37 [==============================] - ETA: 0s - loss: 1.3121e-04 - mae: 0.0083WARNING:tensorflow:Early stopping conditioned on metric `val_loss` which is not available. Available metrics are: loss,mae\n",
            "37/37 [==============================] - 5s 142ms/step - loss: 1.3121e-04 - mae: 0.0083\n",
            "Epoch 53/100\n",
            "37/37 [==============================] - ETA: 0s - loss: 1.2885e-04 - mae: 0.0083WARNING:tensorflow:Early stopping conditioned on metric `val_loss` which is not available. Available metrics are: loss,mae\n",
            "37/37 [==============================] - 5s 139ms/step - loss: 1.2885e-04 - mae: 0.0083\n",
            "Epoch 54/100\n",
            "37/37 [==============================] - ETA: 0s - loss: 1.4524e-04 - mae: 0.0088WARNING:tensorflow:Early stopping conditioned on metric `val_loss` which is not available. Available metrics are: loss,mae\n",
            "37/37 [==============================] - 5s 147ms/step - loss: 1.4524e-04 - mae: 0.0088\n",
            "Epoch 55/100\n",
            "37/37 [==============================] - ETA: 0s - loss: 1.2136e-04 - mae: 0.0079WARNING:tensorflow:Early stopping conditioned on metric `val_loss` which is not available. Available metrics are: loss,mae\n",
            "37/37 [==============================] - 5s 145ms/step - loss: 1.2136e-04 - mae: 0.0079\n",
            "Epoch 56/100\n",
            "37/37 [==============================] - ETA: 0s - loss: 1.4048e-04 - mae: 0.0087WARNING:tensorflow:Early stopping conditioned on metric `val_loss` which is not available. Available metrics are: loss,mae\n",
            "37/37 [==============================] - 5s 141ms/step - loss: 1.4048e-04 - mae: 0.0087\n",
            "Epoch 57/100\n",
            "37/37 [==============================] - ETA: 0s - loss: 1.2560e-04 - mae: 0.0082WARNING:tensorflow:Early stopping conditioned on metric `val_loss` which is not available. Available metrics are: loss,mae\n",
            "37/37 [==============================] - 5s 141ms/step - loss: 1.2560e-04 - mae: 0.0082\n",
            "Epoch 58/100\n",
            "37/37 [==============================] - ETA: 0s - loss: 1.4015e-04 - mae: 0.0088WARNING:tensorflow:Early stopping conditioned on metric `val_loss` which is not available. Available metrics are: loss,mae\n",
            "37/37 [==============================] - 5s 140ms/step - loss: 1.4015e-04 - mae: 0.0088\n",
            "Epoch 59/100\n",
            "37/37 [==============================] - ETA: 0s - loss: 1.2376e-04 - mae: 0.0082WARNING:tensorflow:Early stopping conditioned on metric `val_loss` which is not available. Available metrics are: loss,mae\n",
            "37/37 [==============================] - 5s 141ms/step - loss: 1.2376e-04 - mae: 0.0082\n",
            "Epoch 60/100\n",
            "37/37 [==============================] - ETA: 0s - loss: 1.3153e-04 - mae: 0.0083WARNING:tensorflow:Early stopping conditioned on metric `val_loss` which is not available. Available metrics are: loss,mae\n",
            "37/37 [==============================] - 5s 145ms/step - loss: 1.3153e-04 - mae: 0.0083\n",
            "Epoch 61/100\n",
            "37/37 [==============================] - ETA: 0s - loss: 1.1802e-04 - mae: 0.0079WARNING:tensorflow:Early stopping conditioned on metric `val_loss` which is not available. Available metrics are: loss,mae\n",
            "37/37 [==============================] - 5s 141ms/step - loss: 1.1802e-04 - mae: 0.0079\n",
            "Epoch 62/100\n",
            "37/37 [==============================] - ETA: 0s - loss: 1.2217e-04 - mae: 0.0081WARNING:tensorflow:Early stopping conditioned on metric `val_loss` which is not available. Available metrics are: loss,mae\n",
            "37/37 [==============================] - 5s 144ms/step - loss: 1.2217e-04 - mae: 0.0081\n",
            "Epoch 63/100\n",
            "37/37 [==============================] - ETA: 0s - loss: 1.2031e-04 - mae: 0.0080WARNING:tensorflow:Early stopping conditioned on metric `val_loss` which is not available. Available metrics are: loss,mae\n",
            "37/37 [==============================] - 5s 140ms/step - loss: 1.2031e-04 - mae: 0.0080\n",
            "Epoch 64/100\n",
            "37/37 [==============================] - ETA: 0s - loss: 1.2436e-04 - mae: 0.0081WARNING:tensorflow:Early stopping conditioned on metric `val_loss` which is not available. Available metrics are: loss,mae\n",
            "37/37 [==============================] - 5s 142ms/step - loss: 1.2436e-04 - mae: 0.0081\n",
            "Epoch 65/100\n",
            "37/37 [==============================] - ETA: 0s - loss: 1.2656e-04 - mae: 0.0082WARNING:tensorflow:Early stopping conditioned on metric `val_loss` which is not available. Available metrics are: loss,mae\n",
            "37/37 [==============================] - 5s 141ms/step - loss: 1.2656e-04 - mae: 0.0082\n",
            "Epoch 66/100\n",
            "37/37 [==============================] - ETA: 0s - loss: 1.3174e-04 - mae: 0.0085WARNING:tensorflow:Early stopping conditioned on metric `val_loss` which is not available. Available metrics are: loss,mae\n",
            "37/37 [==============================] - 5s 144ms/step - loss: 1.3174e-04 - mae: 0.0085\n",
            "Epoch 67/100\n",
            "37/37 [==============================] - ETA: 0s - loss: 1.3890e-04 - mae: 0.0088WARNING:tensorflow:Early stopping conditioned on metric `val_loss` which is not available. Available metrics are: loss,mae\n",
            "37/37 [==============================] - 5s 142ms/step - loss: 1.3890e-04 - mae: 0.0088\n",
            "Epoch 68/100\n",
            "37/37 [==============================] - ETA: 0s - loss: 1.1975e-04 - mae: 0.0079WARNING:tensorflow:Early stopping conditioned on metric `val_loss` which is not available. Available metrics are: loss,mae\n",
            "37/37 [==============================] - 5s 142ms/step - loss: 1.1975e-04 - mae: 0.0079\n",
            "Epoch 69/100\n",
            "37/37 [==============================] - ETA: 0s - loss: 1.1552e-04 - mae: 0.0078WARNING:tensorflow:Early stopping conditioned on metric `val_loss` which is not available. Available metrics are: loss,mae\n",
            "37/37 [==============================] - 5s 141ms/step - loss: 1.1552e-04 - mae: 0.0078\n",
            "Epoch 70/100\n",
            "37/37 [==============================] - ETA: 0s - loss: 1.2409e-04 - mae: 0.0081WARNING:tensorflow:Early stopping conditioned on metric `val_loss` which is not available. Available metrics are: loss,mae\n",
            "37/37 [==============================] - 5s 145ms/step - loss: 1.2409e-04 - mae: 0.0081\n",
            "Epoch 71/100\n",
            "37/37 [==============================] - ETA: 0s - loss: 1.2727e-04 - mae: 0.0081WARNING:tensorflow:Early stopping conditioned on metric `val_loss` which is not available. Available metrics are: loss,mae\n",
            "37/37 [==============================] - 5s 143ms/step - loss: 1.2727e-04 - mae: 0.0081\n",
            "Epoch 72/100\n",
            "37/37 [==============================] - ETA: 0s - loss: 1.3255e-04 - mae: 0.0083WARNING:tensorflow:Early stopping conditioned on metric `val_loss` which is not available. Available metrics are: loss,mae\n",
            "37/37 [==============================] - 5s 142ms/step - loss: 1.3255e-04 - mae: 0.0083\n",
            "Epoch 73/100\n",
            "37/37 [==============================] - ETA: 0s - loss: 1.3403e-04 - mae: 0.0084WARNING:tensorflow:Early stopping conditioned on metric `val_loss` which is not available. Available metrics are: loss,mae\n",
            "37/37 [==============================] - 5s 147ms/step - loss: 1.3403e-04 - mae: 0.0084\n",
            "Epoch 74/100\n",
            "37/37 [==============================] - ETA: 0s - loss: 1.2103e-04 - mae: 0.0080WARNING:tensorflow:Early stopping conditioned on metric `val_loss` which is not available. Available metrics are: loss,mae\n",
            "37/37 [==============================] - 5s 144ms/step - loss: 1.2103e-04 - mae: 0.0080\n",
            "Epoch 75/100\n",
            "37/37 [==============================] - ETA: 0s - loss: 1.1952e-04 - mae: 0.0079WARNING:tensorflow:Early stopping conditioned on metric `val_loss` which is not available. Available metrics are: loss,mae\n",
            "37/37 [==============================] - 5s 148ms/step - loss: 1.1952e-04 - mae: 0.0079\n",
            "Epoch 76/100\n",
            "37/37 [==============================] - ETA: 0s - loss: 1.4328e-04 - mae: 0.0089WARNING:tensorflow:Early stopping conditioned on metric `val_loss` which is not available. Available metrics are: loss,mae\n",
            "37/37 [==============================] - 5s 144ms/step - loss: 1.4328e-04 - mae: 0.0089\n",
            "Epoch 77/100\n",
            "37/37 [==============================] - ETA: 0s - loss: 1.2385e-04 - mae: 0.0082WARNING:tensorflow:Early stopping conditioned on metric `val_loss` which is not available. Available metrics are: loss,mae\n",
            "37/37 [==============================] - 5s 142ms/step - loss: 1.2385e-04 - mae: 0.0082\n",
            "Epoch 78/100\n",
            "37/37 [==============================] - ETA: 0s - loss: 1.3346e-04 - mae: 0.0082WARNING:tensorflow:Early stopping conditioned on metric `val_loss` which is not available. Available metrics are: loss,mae\n",
            "37/37 [==============================] - 5s 142ms/step - loss: 1.3346e-04 - mae: 0.0082\n",
            "Epoch 79/100\n",
            "37/37 [==============================] - ETA: 0s - loss: 1.5127e-04 - mae: 0.0092WARNING:tensorflow:Early stopping conditioned on metric `val_loss` which is not available. Available metrics are: loss,mae\n",
            "37/37 [==============================] - 5s 144ms/step - loss: 1.5127e-04 - mae: 0.0092\n",
            "Epoch 80/100\n",
            "37/37 [==============================] - ETA: 0s - loss: 1.2700e-04 - mae: 0.0082WARNING:tensorflow:Early stopping conditioned on metric `val_loss` which is not available. Available metrics are: loss,mae\n",
            "37/37 [==============================] - 5s 143ms/step - loss: 1.2700e-04 - mae: 0.0082\n",
            "Epoch 81/100\n",
            "37/37 [==============================] - ETA: 0s - loss: 1.0885e-04 - mae: 0.0075WARNING:tensorflow:Early stopping conditioned on metric `val_loss` which is not available. Available metrics are: loss,mae\n",
            "37/37 [==============================] - 5s 144ms/step - loss: 1.0885e-04 - mae: 0.0075\n",
            "Epoch 82/100\n",
            "37/37 [==============================] - ETA: 0s - loss: 1.2563e-04 - mae: 0.0080WARNING:tensorflow:Early stopping conditioned on metric `val_loss` which is not available. Available metrics are: loss,mae\n",
            "37/37 [==============================] - 5s 144ms/step - loss: 1.2563e-04 - mae: 0.0080\n",
            "Epoch 83/100\n",
            "37/37 [==============================] - ETA: 0s - loss: 1.3461e-04 - mae: 0.0085WARNING:tensorflow:Early stopping conditioned on metric `val_loss` which is not available. Available metrics are: loss,mae\n",
            "37/37 [==============================] - 5s 143ms/step - loss: 1.3461e-04 - mae: 0.0085\n",
            "Epoch 84/100\n",
            "37/37 [==============================] - ETA: 0s - loss: 1.2870e-04 - mae: 0.0084WARNING:tensorflow:Early stopping conditioned on metric `val_loss` which is not available. Available metrics are: loss,mae\n",
            "37/37 [==============================] - 5s 146ms/step - loss: 1.2870e-04 - mae: 0.0084\n",
            "Epoch 85/100\n",
            "37/37 [==============================] - ETA: 0s - loss: 1.2032e-04 - mae: 0.0081WARNING:tensorflow:Early stopping conditioned on metric `val_loss` which is not available. Available metrics are: loss,mae\n",
            "37/37 [==============================] - 6s 152ms/step - loss: 1.2032e-04 - mae: 0.0081\n",
            "Epoch 86/100\n",
            "37/37 [==============================] - ETA: 0s - loss: 1.3135e-04 - mae: 0.0083WARNING:tensorflow:Early stopping conditioned on metric `val_loss` which is not available. Available metrics are: loss,mae\n",
            "37/37 [==============================] - 5s 144ms/step - loss: 1.3135e-04 - mae: 0.0083\n",
            "Epoch 87/100\n",
            "37/37 [==============================] - ETA: 0s - loss: 1.2621e-04 - mae: 0.0081WARNING:tensorflow:Early stopping conditioned on metric `val_loss` which is not available. Available metrics are: loss,mae\n",
            "37/37 [==============================] - 5s 142ms/step - loss: 1.2621e-04 - mae: 0.0081\n",
            "Epoch 88/100\n",
            "37/37 [==============================] - ETA: 0s - loss: 1.1626e-04 - mae: 0.0078WARNING:tensorflow:Early stopping conditioned on metric `val_loss` which is not available. Available metrics are: loss,mae\n",
            "37/37 [==============================] - 5s 146ms/step - loss: 1.1626e-04 - mae: 0.0078\n",
            "Epoch 89/100\n",
            "37/37 [==============================] - ETA: 0s - loss: 1.1343e-04 - mae: 0.0077WARNING:tensorflow:Early stopping conditioned on metric `val_loss` which is not available. Available metrics are: loss,mae\n",
            "37/37 [==============================] - 5s 142ms/step - loss: 1.1343e-04 - mae: 0.0077\n",
            "Epoch 90/100\n",
            "37/37 [==============================] - ETA: 0s - loss: 1.2410e-04 - mae: 0.0080WARNING:tensorflow:Early stopping conditioned on metric `val_loss` which is not available. Available metrics are: loss,mae\n",
            "37/37 [==============================] - 5s 144ms/step - loss: 1.2410e-04 - mae: 0.0080\n",
            "Epoch 91/100\n",
            "37/37 [==============================] - ETA: 0s - loss: 1.1812e-04 - mae: 0.0078WARNING:tensorflow:Early stopping conditioned on metric `val_loss` which is not available. Available metrics are: loss,mae\n",
            "37/37 [==============================] - 5s 142ms/step - loss: 1.1812e-04 - mae: 0.0078\n",
            "Epoch 92/100\n",
            "37/37 [==============================] - ETA: 0s - loss: 1.6133e-04 - mae: 0.0092WARNING:tensorflow:Early stopping conditioned on metric `val_loss` which is not available. Available metrics are: loss,mae\n",
            "37/37 [==============================] - 5s 144ms/step - loss: 1.6133e-04 - mae: 0.0092\n",
            "Epoch 93/100\n",
            "37/37 [==============================] - ETA: 0s - loss: 1.3948e-04 - mae: 0.0086WARNING:tensorflow:Early stopping conditioned on metric `val_loss` which is not available. Available metrics are: loss,mae\n",
            "37/37 [==============================] - 6s 150ms/step - loss: 1.3948e-04 - mae: 0.0086\n",
            "Epoch 94/100\n",
            "37/37 [==============================] - ETA: 0s - loss: 1.1845e-04 - mae: 0.0079WARNING:tensorflow:Early stopping conditioned on metric `val_loss` which is not available. Available metrics are: loss,mae\n",
            "37/37 [==============================] - 5s 143ms/step - loss: 1.1845e-04 - mae: 0.0079\n",
            "Epoch 95/100\n",
            "37/37 [==============================] - ETA: 0s - loss: 1.2135e-04 - mae: 0.0080WARNING:tensorflow:Early stopping conditioned on metric `val_loss` which is not available. Available metrics are: loss,mae\n",
            "37/37 [==============================] - 5s 143ms/step - loss: 1.2135e-04 - mae: 0.0080\n",
            "Epoch 96/100\n",
            "37/37 [==============================] - ETA: 0s - loss: 1.1898e-04 - mae: 0.0078WARNING:tensorflow:Early stopping conditioned on metric `val_loss` which is not available. Available metrics are: loss,mae\n",
            "37/37 [==============================] - 6s 158ms/step - loss: 1.1898e-04 - mae: 0.0078\n",
            "Epoch 97/100\n",
            "37/37 [==============================] - ETA: 0s - loss: 1.2854e-04 - mae: 0.0083WARNING:tensorflow:Early stopping conditioned on metric `val_loss` which is not available. Available metrics are: loss,mae\n",
            "37/37 [==============================] - 6s 163ms/step - loss: 1.2854e-04 - mae: 0.0083\n",
            "Epoch 98/100\n",
            "37/37 [==============================] - ETA: 0s - loss: 1.2886e-04 - mae: 0.0081WARNING:tensorflow:Early stopping conditioned on metric `val_loss` which is not available. Available metrics are: loss,mae\n",
            "37/37 [==============================] - 6s 164ms/step - loss: 1.2886e-04 - mae: 0.0081\n",
            "Epoch 99/100\n",
            "37/37 [==============================] - ETA: 0s - loss: 1.2995e-04 - mae: 0.0084WARNING:tensorflow:Early stopping conditioned on metric `val_loss` which is not available. Available metrics are: loss,mae\n",
            "37/37 [==============================] - 6s 161ms/step - loss: 1.2995e-04 - mae: 0.0084\n",
            "Epoch 100/100\n",
            "37/37 [==============================] - ETA: 0s - loss: 1.3118e-04 - mae: 0.0083WARNING:tensorflow:Early stopping conditioned on metric `val_loss` which is not available. Available metrics are: loss,mae\n",
            "37/37 [==============================] - 6s 148ms/step - loss: 1.3118e-04 - mae: 0.0083\n"
          ]
        },
        {
          "output_type": "execute_result",
          "data": {
            "text/plain": [
              "<keras.callbacks.History at 0x7fc5bb066ed0>"
            ]
          },
          "metadata": {},
          "execution_count": 115
        }
      ]
    },
    {
      "cell_type": "code",
      "metadata": {
        "colab": {
          "base_uri": "https://localhost:8080/",
          "height": 264
        },
        "id": "mk8qYfWAGIc2",
        "outputId": "18f633fc-7a77-49ac-e575-e871ed1be22a"
      },
      "source": [
        "#정확도 및 손실 \n",
        "train_pred=model.predict(x_train)\n",
        "test_pred=model.predict(x_test)\n",
        "#학습결과 그림으로 확인\n",
        "plt.plot(train_pred, label='predict')\n",
        "plt.plot(y_train, label='label')\n",
        "plt.grid()\n",
        "plt.legend(loc='best')\n",
        "plt.show()"
      ],
      "execution_count": null,
      "outputs": [
        {
          "output_type": "display_data",
          "data": {
            "image/png": "[encoded data removed]",
            "text/plain": [
              "<Figure size 432x288 with 1 Axes>"
            ]
          },
          "metadata": {
            "needs_background": "light"
          }
        }
      ]
    },
    {
      "cell_type": "code",
      "metadata": {
        "colab": {
          "base_uri": "https://localhost:8080/",
          "height": 264
        },
        "id": "mOTYDQfhC3b7",
        "outputId": "99f6a723-b4eb-46a1-f2c4-11ea8560e7a7"
      },
      "source": [
        "#그림으로 확인\n",
        "plt.plot(test_pred, label='predict')\n",
        "plt.plot(y_test, label='label')\n",
        "plt.grid()\n",
        "plt.legend(loc='best')\n",
        "plt.show()"
      ],
      "execution_count": null,
      "outputs": [
        {
          "output_type": "display_data",
          "data": {
            "image/png": "[encoded data removed]",
            "text/plain": [
              "<Figure size 432x288 with 1 Axes>"
            ]
          },
          "metadata": {
            "needs_background": "light"
          }
        }
      ]
    },
    {
      "cell_type": "code",
      "source": [
        "x_test.shape"
      ],
      "metadata": {
        "colab": {
          "base_uri": "https://localhost:8080/"
        },
        "id": "nAtv8lxV-bwb",
        "outputId": "1bce2007-52eb-4ff5-886c-ad003475fdbb"
      },
      "execution_count": null,
      "outputs": [
        {
          "output_type": "execute_result",
          "data": {
            "text/plain": [
              "(499, 40, 5)"
            ]
          },
          "metadata": {},
          "execution_count": 119
        }
      ]
    },
    {
      "cell_type": "code",
      "source": [
        "# invert scaling for forecast\n",
        "train_pred=train_pred.reshape(-1,1)\n",
        "test_pred=test_pred.reshape(-1,1)\n",
        "train_pred_inver=scaler.inverse_transform(train_pred)\n",
        "test_pred_inver=scaler.inverse_transform(test_pred)\n",
        "# invert scaling for actual\n",
        "y_train_inver=scaler.inverse_transform(y_train)\n",
        "y_test_inver=scaler.inverse_transform(y_test)\n",
        "#mape\n",
        "from sklearn.metrics import mean_absolute_percentage_error\n",
        "mape_test=mean_absolute_percentage_error(test_pred_inver,y_test_inver)\n",
        "mape_train=mean_absolute_percentage_error(train_pred_inver,y_train_inver)\n",
        "print(mape_train, mape_test)"
      ],
      "metadata": {
        "colab": {
          "base_uri": "https://localhost:8080/"
        },
        "id": "6ouWuU6b_MuL",
        "outputId": "d390e405-9f5f-423e-f9ea-a77602961258"
      },
      "execution_count": null,
      "outputs": [
        {
          "output_type": "stream",
          "name": "stdout",
          "text": [
            "0.01595356238505516 0.022199142331078277\n"
          ]
        }
      ]
    }
  ]
}