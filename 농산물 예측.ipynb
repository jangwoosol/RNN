{
 "cells": [
  {
   "cell_type": "code",
   "execution_count": 1,
   "metadata": {
    "colab": {
     "base_uri": "https://localhost:8080/"
    },
    "id": "4Q2RlY2O4v6V",
    "outputId": "95c37ffa-ebe9-43b3-8737-cd6d538dd44a"
   },
   "outputs": [
    {
     "name": "stderr",
     "output_type": "stream",
     "text": [
      "/usr/local/lib/python3.7/dist-packages/statsmodels/tools/_testing.py:19: FutureWarning: pandas.util.testing is deprecated. Use the functions in the public API at pandas.testing instead.\n",
      "  import pandas.util.testing as tm\n"
     ]
    }
   ],
   "source": [
    "import pandas as pd\n",
    "from sklearn.preprocessing import MinMaxScaler\n",
    "import matplotlib.pyplot as plt\n",
    "from statsmodels.graphics.tsaplots import plot_acf, plot_pacf\n",
    "import numpy as np\n",
    "from sklearn import utils\n",
    "from tensorflow.keras.layers import Input\n",
    "from tensorflow.keras.layers import LSTM\n",
    "from tensorflow.keras.layers import Dense\n",
    "from tensorflow.keras.models import Model\n",
    "from tensorflow.keras.optimizers import Adam\n",
    "from tensorflow.keras.callbacks import ModelCheckpoint\n",
    "import tensorflow as tf\n"
   ]
  },
  {
   "cell_type": "code",
   "execution_count": 2,
   "metadata": {
    "id": "hSRIs6_slvWI"
   },
   "outputs": [],
   "source": [
    "data1=pd.read_excel('/content/농산물_수입량_수입가격.xlsx',sheet_name=0)\n",
    "data2=pd.read_excel('/content/농산물_수입량_수입가격.xlsx',sheet_name=1)"
   ]
  },
  {
   "cell_type": "code",
   "execution_count": null,
   "metadata": {
    "colab": {
     "base_uri": "https://localhost:8080/"
    },
    "id": "1W5QatNha9Mp",
    "outputId": "82f06e1c-8398-439f-a65d-9ed3e85c3a4f"
   },
   "outputs": [
    {
     "name": "stdout",
     "output_type": "stream",
     "text": [
      "날짜     0\n",
      "쌀      0\n",
      "팥      0\n",
      "콩      0\n",
      "녹두     0\n",
      "메밀     0\n",
      "기타콩    0\n",
      "dtype: int64\n",
      "날짜     0\n",
      "쌀      0\n",
      "팥      0\n",
      "콩      0\n",
      "녹두     0\n",
      "메밀     0\n",
      "기타콩    0\n",
      "dtype: int64\n"
     ]
    }
   ],
   "source": [
    "print(pd.isnull(data1).sum())\n",
    "print(pd.isnull(data2).sum())"
   ]
  },
  {
   "cell_type": "code",
   "execution_count": 3,
   "metadata": {
    "id": "luN2K_moGPvI"
   },
   "outputs": [],
   "source": [
    "df=pd.merge(data1,data2,on='날짜')\n",
    "#x가 가격 y가 수입량\n",
    "#데이터분리\n",
    "dataa=df[(df['날짜']<'2020-05-01')]\n",
    "testt=df[(df['날짜']>='2020-05-01')]"
   ]
  },
  {
   "cell_type": "markdown",
   "metadata": {
    "id": "5AGCVSbFj2M7"
   },
   "source": [
    "#쌀 가격과 수입량"
   ]
  },
  {
   "cell_type": "code",
   "execution_count": 43,
   "metadata": {
    "colab": {
     "base_uri": "https://localhost:8080/"
    },
    "id": "6L2u5O1TteZY",
    "outputId": "43687649-f387-465d-fe93-7c9d8e9aade3"
   },
   "outputs": [
    {
     "name": "stdout",
     "output_type": "stream",
     "text": [
      "(63, 7, 2)\n",
      "(63, 2)\n",
      "(23, 7, 2)\n",
      "(23, 2)\n"
     ]
    }
   ],
   "source": [
    "rice=dataa[['쌀_x','쌀_y']]\n",
    "data=rice.values\n",
    "train = data[:(len(data) - int(len(data)*0.3))]\n",
    "test = data[:int(len(data)*0.3)]\n",
    "transformer = MinMaxScaler()\n",
    "train = transformer.fit_transform(train)\n",
    "test = transformer.transform(test)\n",
    "\n",
    "sequence_length = 7\n",
    "window_length = sequence_length + 1\n",
    "\n",
    "x_train = []\n",
    "y_train = []\n",
    "for i in range(0, len(train) - window_length + 1):\n",
    "    window = train[i:i + window_length, :]\n",
    "    x_train.append(window[:-1])\n",
    "    y_train.append(window[-1])\n",
    "x_train = np.array(x_train)\n",
    "y_train = np.array(y_train)\n",
    "\n",
    "x_test = []\n",
    "y_test = []\n",
    "for i in range(0, len(test) - window_length + 1):\n",
    "    window = test[i:i + window_length, :]\n",
    "    x_test.append(window[:-1])\n",
    "    y_test.append(window[-1])\n",
    "x_test = np.array(x_test)\n",
    "y_test = np.array(y_test)\n",
    "\n",
    "print(x_train.shape)\n",
    "print(y_train.shape)\n",
    "print(x_test.shape)\n",
    "print(y_test.shape)"
   ]
  },
  {
   "cell_type": "code",
   "execution_count": 35,
   "metadata": {
    "colab": {
     "base_uri": "https://localhost:8080/"
    },
    "id": "7epu2YarkGG5",
    "outputId": "bc425d35-e68d-4cb6-858b-a88c227b6144"
   },
   "outputs": [
    {
     "data": {
      "text/plain": [
       "(7, 2)"
      ]
     },
     "execution_count": 35,
     "metadata": {},
     "output_type": "execute_result"
    }
   ],
   "source": [
    "x_train[0].shape"
   ]
  },
  {
   "cell_type": "code",
   "execution_count": 44,
   "metadata": {
    "colab": {
     "base_uri": "https://localhost:8080/"
    },
    "id": "QlZq5HCvmH0i",
    "outputId": "ec8f797d-f28c-4309-a5b7-32fb3534ef48"
   },
   "outputs": [
    {
     "name": "stdout",
     "output_type": "stream",
     "text": [
      "Model: \"model_5\"\n",
      "_________________________________________________________________\n",
      " Layer (type)                Output Shape              Param #   \n",
      "=================================================================\n",
      " input_14 (InputLayer)       [(None, 7, 2)]            0         \n",
      "                                                                 \n",
      " lstm_5 (LSTM)               (None, 10)                520       \n",
      "                                                                 \n",
      " dense_5 (Dense)             (None, 2)                 22        \n",
      "                                                                 \n",
      "=================================================================\n",
      "Total params: 542\n",
      "Trainable params: 542\n",
      "Non-trainable params: 0\n",
      "_________________________________________________________________\n"
     ]
    }
   ],
   "source": [
    "input = Input(shape=(sequence_length, 2))\n",
    "\n",
    "net = LSTM(units=10)(input) \n",
    "net = Dense(units=2)(net)\n",
    "model = Model(inputs=input, outputs=net)\n",
    "\n",
    "model.summary()"
   ]
  },
  {
   "cell_type": "code",
   "execution_count": 45,
   "metadata": {
    "colab": {
     "base_uri": "https://localhost:8080/"
    },
    "id": "okRyjn82nOxC",
    "outputId": "6b8952d1-02e8-47fc-fbb3-2bc31010e4d4"
   },
   "outputs": [
    {
     "name": "stderr",
     "output_type": "stream",
     "text": [
      "/usr/local/lib/python3.7/dist-packages/keras/optimizer_v2/adam.py:105: UserWarning: The `lr` argument is deprecated, use `learning_rate` instead.\n",
      "  super(Adam, self).__init__(name, **kwargs)\n"
     ]
    },
    {
     "name": "stdout",
     "output_type": "stream",
     "text": [
      "Epoch 1/60\n",
      "2/2 [==============================] - 2s 482ms/step - loss: 0.2480 - val_loss: 0.1431\n",
      "Epoch 2/60\n",
      "2/2 [==============================] - 0s 27ms/step - loss: 0.1280 - val_loss: 0.0745\n",
      "Epoch 3/60\n",
      "2/2 [==============================] - 0s 27ms/step - loss: 0.0712 - val_loss: 0.0644\n",
      "Epoch 4/60\n",
      "2/2 [==============================] - 0s 28ms/step - loss: 0.0687 - val_loss: 0.0822\n",
      "Epoch 5/60\n",
      "2/2 [==============================] - 0s 27ms/step - loss: 0.0843 - val_loss: 0.0847\n",
      "Epoch 6/60\n",
      "2/2 [==============================] - 0s 26ms/step - loss: 0.0826 - val_loss: 0.0731\n",
      "Epoch 7/60\n",
      "2/2 [==============================] - 0s 26ms/step - loss: 0.0714 - val_loss: 0.0638\n",
      "Epoch 8/60\n",
      "2/2 [==============================] - 0s 26ms/step - loss: 0.0639 - val_loss: 0.0601\n",
      "Epoch 9/60\n",
      "2/2 [==============================] - 0s 30ms/step - loss: 0.0609 - val_loss: 0.0601\n",
      "Epoch 10/60\n",
      "2/2 [==============================] - 0s 27ms/step - loss: 0.0621 - val_loss: 0.0612\n",
      "Epoch 11/60\n",
      "2/2 [==============================] - 0s 28ms/step - loss: 0.0632 - val_loss: 0.0617\n",
      "Epoch 12/60\n",
      "2/2 [==============================] - 0s 29ms/step - loss: 0.0638 - val_loss: 0.0613\n",
      "Epoch 13/60\n",
      "2/2 [==============================] - 0s 27ms/step - loss: 0.0631 - val_loss: 0.0601\n",
      "Epoch 14/60\n",
      "2/2 [==============================] - 0s 29ms/step - loss: 0.0621 - val_loss: 0.0587\n",
      "Epoch 15/60\n",
      "2/2 [==============================] - 0s 27ms/step - loss: 0.0607 - val_loss: 0.0575\n",
      "Epoch 16/60\n",
      "2/2 [==============================] - 0s 28ms/step - loss: 0.0593 - val_loss: 0.0568\n",
      "Epoch 17/60\n",
      "2/2 [==============================] - 0s 29ms/step - loss: 0.0590 - val_loss: 0.0565\n",
      "Epoch 18/60\n",
      "2/2 [==============================] - 0s 29ms/step - loss: 0.0586 - val_loss: 0.0563\n",
      "Epoch 19/60\n",
      "2/2 [==============================] - 0s 26ms/step - loss: 0.0587 - val_loss: 0.0562\n",
      "Epoch 20/60\n",
      "2/2 [==============================] - 0s 29ms/step - loss: 0.0586 - val_loss: 0.0559\n",
      "Epoch 21/60\n",
      "2/2 [==============================] - 0s 29ms/step - loss: 0.0585 - val_loss: 0.0554\n",
      "Epoch 22/60\n",
      "2/2 [==============================] - 0s 32ms/step - loss: 0.0580 - val_loss: 0.0549\n",
      "Epoch 23/60\n",
      "2/2 [==============================] - 0s 27ms/step - loss: 0.0575 - val_loss: 0.0544\n",
      "Epoch 24/60\n",
      "2/2 [==============================] - 0s 31ms/step - loss: 0.0571 - val_loss: 0.0539\n",
      "Epoch 25/60\n",
      "2/2 [==============================] - 0s 28ms/step - loss: 0.0570 - val_loss: 0.0535\n",
      "Epoch 26/60\n",
      "2/2 [==============================] - 0s 29ms/step - loss: 0.0567 - val_loss: 0.0532\n",
      "Epoch 27/60\n",
      "2/2 [==============================] - 0s 27ms/step - loss: 0.0565 - val_loss: 0.0529\n",
      "Epoch 28/60\n",
      "2/2 [==============================] - 0s 29ms/step - loss: 0.0564 - val_loss: 0.0526\n",
      "Epoch 29/60\n",
      "2/2 [==============================] - 0s 27ms/step - loss: 0.0562 - val_loss: 0.0522\n",
      "Epoch 30/60\n",
      "2/2 [==============================] - 0s 26ms/step - loss: 0.0560 - val_loss: 0.0518\n",
      "Epoch 31/60\n",
      "2/2 [==============================] - 0s 26ms/step - loss: 0.0558 - val_loss: 0.0514\n",
      "Epoch 32/60\n",
      "2/2 [==============================] - 0s 30ms/step - loss: 0.0554 - val_loss: 0.0510\n",
      "Epoch 33/60\n",
      "2/2 [==============================] - 0s 27ms/step - loss: 0.0552 - val_loss: 0.0507\n",
      "Epoch 34/60\n",
      "2/2 [==============================] - 0s 27ms/step - loss: 0.0550 - val_loss: 0.0503\n",
      "Epoch 35/60\n",
      "2/2 [==============================] - 0s 31ms/step - loss: 0.0547 - val_loss: 0.0499\n",
      "Epoch 36/60\n",
      "2/2 [==============================] - 0s 25ms/step - loss: 0.0545 - val_loss: 0.0496\n",
      "Epoch 37/60\n",
      "2/2 [==============================] - 0s 26ms/step - loss: 0.0543 - val_loss: 0.0492\n",
      "Epoch 38/60\n",
      "2/2 [==============================] - 0s 27ms/step - loss: 0.0542 - val_loss: 0.0488\n",
      "Epoch 39/60\n",
      "2/2 [==============================] - 0s 28ms/step - loss: 0.0539 - val_loss: 0.0485\n",
      "Epoch 40/60\n",
      "2/2 [==============================] - 0s 28ms/step - loss: 0.0538 - val_loss: 0.0481\n",
      "Epoch 41/60\n",
      "2/2 [==============================] - 0s 27ms/step - loss: 0.0535 - val_loss: 0.0477\n",
      "Epoch 42/60\n",
      "2/2 [==============================] - 0s 26ms/step - loss: 0.0533 - val_loss: 0.0474\n",
      "Epoch 43/60\n",
      "2/2 [==============================] - 0s 28ms/step - loss: 0.0530 - val_loss: 0.0470\n",
      "Epoch 44/60\n",
      "2/2 [==============================] - 0s 28ms/step - loss: 0.0528 - val_loss: 0.0467\n",
      "Epoch 45/60\n",
      "2/2 [==============================] - 0s 26ms/step - loss: 0.0525 - val_loss: 0.0463\n",
      "Epoch 46/60\n",
      "2/2 [==============================] - 0s 30ms/step - loss: 0.0524 - val_loss: 0.0460\n",
      "Epoch 47/60\n",
      "2/2 [==============================] - 0s 30ms/step - loss: 0.0523 - val_loss: 0.0457\n",
      "Epoch 48/60\n",
      "2/2 [==============================] - 0s 28ms/step - loss: 0.0520 - val_loss: 0.0453\n",
      "Epoch 49/60\n",
      "2/2 [==============================] - 0s 27ms/step - loss: 0.0519 - val_loss: 0.0451\n",
      "Epoch 50/60\n",
      "2/2 [==============================] - 0s 28ms/step - loss: 0.0517 - val_loss: 0.0448\n",
      "Epoch 51/60\n",
      "2/2 [==============================] - 0s 33ms/step - loss: 0.0518 - val_loss: 0.0446\n",
      "Epoch 52/60\n",
      "2/2 [==============================] - 0s 27ms/step - loss: 0.0516 - val_loss: 0.0445\n",
      "Epoch 53/60\n",
      "2/2 [==============================] - 0s 26ms/step - loss: 0.0514 - val_loss: 0.0443\n",
      "Epoch 54/60\n",
      "2/2 [==============================] - 0s 34ms/step - loss: 0.0512 - val_loss: 0.0440\n",
      "Epoch 55/60\n",
      "2/2 [==============================] - 0s 27ms/step - loss: 0.0515 - val_loss: 0.0440\n",
      "Epoch 56/60\n",
      "2/2 [==============================] - 0s 27ms/step - loss: 0.0509 - val_loss: 0.0438\n",
      "Epoch 57/60\n",
      "2/2 [==============================] - 0s 27ms/step - loss: 0.0509 - val_loss: 0.0436\n",
      "Epoch 58/60\n",
      "2/2 [==============================] - 0s 26ms/step - loss: 0.0510 - val_loss: 0.0435\n",
      "Epoch 59/60\n",
      "2/2 [==============================] - 0s 29ms/step - loss: 0.0507 - val_loss: 0.0435\n",
      "Epoch 60/60\n",
      "2/2 [==============================] - 0s 28ms/step - loss: 0.0508 - val_loss: 0.0434\n"
     ]
    },
    {
     "data": {
      "text/plain": [
       "<keras.callbacks.History at 0x7f4a9c7eae10>"
      ]
     },
     "execution_count": 45,
     "metadata": {},
     "output_type": "execute_result"
    }
   ],
   "source": [
    "model.compile(loss='mean_squared_error', optimizer=Adam(lr=0.01))\n",
    "\n",
    "model.fit(x_train, y_train, epochs=60, validation_data=(x_test, y_test))"
   ]
  },
  {
   "cell_type": "code",
   "execution_count": 46,
   "metadata": {
    "id": "LIAIrca-XiHq"
   },
   "outputs": [],
   "source": [
    "y_predict = model.predict(x_test)\n",
    "y_predict_inverse=transformer.inverse_transform(y_predict)\n",
    "y_test_inverse=transformer.inverse_transform(y_test)"
   ]
  },
  {
   "cell_type": "code",
   "execution_count": 47,
   "metadata": {
    "colab": {
     "base_uri": "https://localhost:8080/"
    },
    "id": "lo7ule1WYf1b",
    "outputId": "86a09269-2fef-4e54-8ac9-46d05b35088b"
   },
   "outputs": [
    {
     "data": {
      "text/plain": [
       "1.3211743347884264"
      ]
     },
     "execution_count": 47,
     "metadata": {},
     "output_type": "execute_result"
    }
   ],
   "source": [
    "from sklearn.metrics import mean_absolute_percentage_error\n",
    "mean_absolute_percentage_error(y_test_inverse,y_predict_inverse)"
   ]
  },
  {
   "cell_type": "code",
   "execution_count": 40,
   "metadata": {
    "colab": {
     "base_uri": "https://localhost:8080/",
     "height": 423
    },
    "id": "lu-eBaswl9La",
    "outputId": "8d664045-63e0-4eaa-95a2-199db321de42"
   },
   "outputs": [
    {
     "data": {
      "text/html": [
       "<div>\n",
       "<style scoped>\n",
       "    .dataframe tbody tr th:only-of-type {\n",
       "        vertical-align: middle;\n",
       "    }\n",
       "\n",
       "    .dataframe tbody tr th {\n",
       "        vertical-align: top;\n",
       "    }\n",
       "\n",
       "    .dataframe thead th {\n",
       "        text-align: right;\n",
       "    }\n",
       "</style>\n",
       "<table border=\"1\" class=\"dataframe\">\n",
       "  <thead>\n",
       "    <tr style=\"text-align: right;\">\n",
       "      <th></th>\n",
       "      <th>날짜</th>\n",
       "      <th>쌀_x</th>\n",
       "      <th>팥_x</th>\n",
       "      <th>콩_x</th>\n",
       "      <th>녹두_x</th>\n",
       "      <th>메밀_x</th>\n",
       "      <th>기타콩_x</th>\n",
       "      <th>쌀_y</th>\n",
       "      <th>팥_y</th>\n",
       "      <th>콩_y</th>\n",
       "      <th>녹두_y</th>\n",
       "      <th>메밀_y</th>\n",
       "      <th>기타콩_y</th>\n",
       "    </tr>\n",
       "  </thead>\n",
       "  <tbody>\n",
       "    <tr>\n",
       "      <th>0</th>\n",
       "      <td>2012-01-01</td>\n",
       "      <td>17309411.0</td>\n",
       "      <td>484953.0</td>\n",
       "      <td>621207.0</td>\n",
       "      <td>46952.0</td>\n",
       "      <td>223017.0</td>\n",
       "      <td>335535.0</td>\n",
       "      <td>14390615.0</td>\n",
       "      <td>694428</td>\n",
       "      <td>298470</td>\n",
       "      <td>58548</td>\n",
       "      <td>70110</td>\n",
       "      <td>408319</td>\n",
       "    </tr>\n",
       "    <tr>\n",
       "      <th>1</th>\n",
       "      <td>2012-02-01</td>\n",
       "      <td>7465279.0</td>\n",
       "      <td>607139.0</td>\n",
       "      <td>532087.0</td>\n",
       "      <td>0.0</td>\n",
       "      <td>0.0</td>\n",
       "      <td>140125.0</td>\n",
       "      <td>6279896.0</td>\n",
       "      <td>640202</td>\n",
       "      <td>289048</td>\n",
       "      <td>0</td>\n",
       "      <td>0</td>\n",
       "      <td>190148</td>\n",
       "    </tr>\n",
       "    <tr>\n",
       "      <th>2</th>\n",
       "      <td>2012-03-01</td>\n",
       "      <td>22486603.0</td>\n",
       "      <td>3429365.0</td>\n",
       "      <td>894162.0</td>\n",
       "      <td>0.0</td>\n",
       "      <td>120000.0</td>\n",
       "      <td>247573.0</td>\n",
       "      <td>18238124.0</td>\n",
       "      <td>3674904</td>\n",
       "      <td>362021</td>\n",
       "      <td>0</td>\n",
       "      <td>37680</td>\n",
       "      <td>321311</td>\n",
       "    </tr>\n",
       "    <tr>\n",
       "      <th>3</th>\n",
       "      <td>2012-04-01</td>\n",
       "      <td>22642156.0</td>\n",
       "      <td>2272238.0</td>\n",
       "      <td>1166611.0</td>\n",
       "      <td>1051500.0</td>\n",
       "      <td>571566.0</td>\n",
       "      <td>204449.0</td>\n",
       "      <td>19195746.0</td>\n",
       "      <td>2910072</td>\n",
       "      <td>539112</td>\n",
       "      <td>977476</td>\n",
       "      <td>350293</td>\n",
       "      <td>271190</td>\n",
       "    </tr>\n",
       "    <tr>\n",
       "      <th>4</th>\n",
       "      <td>2012-05-01</td>\n",
       "      <td>37076936.0</td>\n",
       "      <td>5993527.0</td>\n",
       "      <td>1127110.0</td>\n",
       "      <td>21201.0</td>\n",
       "      <td>380000.0</td>\n",
       "      <td>279031.0</td>\n",
       "      <td>30108629.0</td>\n",
       "      <td>6158674</td>\n",
       "      <td>664481</td>\n",
       "      <td>23296</td>\n",
       "      <td>216664</td>\n",
       "      <td>356704</td>\n",
       "    </tr>\n",
       "    <tr>\n",
       "      <th>...</th>\n",
       "      <td>...</td>\n",
       "      <td>...</td>\n",
       "      <td>...</td>\n",
       "      <td>...</td>\n",
       "      <td>...</td>\n",
       "      <td>...</td>\n",
       "      <td>...</td>\n",
       "      <td>...</td>\n",
       "      <td>...</td>\n",
       "      <td>...</td>\n",
       "      <td>...</td>\n",
       "      <td>...</td>\n",
       "      <td>...</td>\n",
       "    </tr>\n",
       "    <tr>\n",
       "      <th>95</th>\n",
       "      <td>2019-12-01</td>\n",
       "      <td>59502422.4</td>\n",
       "      <td>6771540.2</td>\n",
       "      <td>1033037.6</td>\n",
       "      <td>1293054.9</td>\n",
       "      <td>340039.9</td>\n",
       "      <td>217934.9</td>\n",
       "      <td>45110763.0</td>\n",
       "      <td>7356527</td>\n",
       "      <td>748115</td>\n",
       "      <td>1645448</td>\n",
       "      <td>217329</td>\n",
       "      <td>255103</td>\n",
       "    </tr>\n",
       "    <tr>\n",
       "      <th>96</th>\n",
       "      <td>2020-01-01</td>\n",
       "      <td>106904185.6</td>\n",
       "      <td>2850398.2</td>\n",
       "      <td>945429.0</td>\n",
       "      <td>1148207.0</td>\n",
       "      <td>675047.6</td>\n",
       "      <td>189360.7</td>\n",
       "      <td>64001710.0</td>\n",
       "      <td>3262698</td>\n",
       "      <td>625794</td>\n",
       "      <td>1546378</td>\n",
       "      <td>599787</td>\n",
       "      <td>625794</td>\n",
       "    </tr>\n",
       "    <tr>\n",
       "      <th>97</th>\n",
       "      <td>2020-02-01</td>\n",
       "      <td>35022103.7</td>\n",
       "      <td>1115764.0</td>\n",
       "      <td>929753.3</td>\n",
       "      <td>65355.7</td>\n",
       "      <td>261.7</td>\n",
       "      <td>178132.3</td>\n",
       "      <td>20564947.0</td>\n",
       "      <td>1233496</td>\n",
       "      <td>606834</td>\n",
       "      <td>83205</td>\n",
       "      <td>482</td>\n",
       "      <td>213263</td>\n",
       "    </tr>\n",
       "    <tr>\n",
       "      <th>98</th>\n",
       "      <td>2020-03-01</td>\n",
       "      <td>38055379.1</td>\n",
       "      <td>1708941.1</td>\n",
       "      <td>895414.8</td>\n",
       "      <td>100085.1</td>\n",
       "      <td>1035.1</td>\n",
       "      <td>132976.2</td>\n",
       "      <td>31173987.0</td>\n",
       "      <td>2082290</td>\n",
       "      <td>659141</td>\n",
       "      <td>149132</td>\n",
       "      <td>1222</td>\n",
       "      <td>162522</td>\n",
       "    </tr>\n",
       "    <tr>\n",
       "      <th>99</th>\n",
       "      <td>2020-04-01</td>\n",
       "      <td>40310330.6</td>\n",
       "      <td>4606145.2</td>\n",
       "      <td>4606145.2</td>\n",
       "      <td>160027.4</td>\n",
       "      <td>821290.3</td>\n",
       "      <td>100887.5</td>\n",
       "      <td>33354960.0</td>\n",
       "      <td>5407401</td>\n",
       "      <td>690092</td>\n",
       "      <td>239436</td>\n",
       "      <td>592914</td>\n",
       "      <td>141958</td>\n",
       "    </tr>\n",
       "  </tbody>\n",
       "</table>\n",
       "<p>100 rows × 13 columns</p>\n",
       "</div>"
      ],
      "text/plain": [
       "           날짜          쌀_x        팥_x  ...     녹두_y    메밀_y   기타콩_y\n",
       "0  2012-01-01   17309411.0   484953.0  ...    58548   70110  408319\n",
       "1  2012-02-01    7465279.0   607139.0  ...        0       0  190148\n",
       "2  2012-03-01   22486603.0  3429365.0  ...        0   37680  321311\n",
       "3  2012-04-01   22642156.0  2272238.0  ...   977476  350293  271190\n",
       "4  2012-05-01   37076936.0  5993527.0  ...    23296  216664  356704\n",
       "..        ...          ...        ...  ...      ...     ...     ...\n",
       "95 2019-12-01   59502422.4  6771540.2  ...  1645448  217329  255103\n",
       "96 2020-01-01  106904185.6  2850398.2  ...  1546378  599787  625794\n",
       "97 2020-02-01   35022103.7  1115764.0  ...    83205     482  213263\n",
       "98 2020-03-01   38055379.1  1708941.1  ...   149132    1222  162522\n",
       "99 2020-04-01   40310330.6  4606145.2  ...   239436  592914  141958\n",
       "\n",
       "[100 rows x 13 columns]"
      ]
     },
     "execution_count": 40,
     "metadata": {},
     "output_type": "execute_result"
    }
   ],
   "source": [
    "dataa"
   ]
  },
  {
   "cell_type": "markdown",
   "metadata": {
    "id": "KvDpPunsm59h"
   },
   "source": [
    "#콩 가격과 수입량"
   ]
  },
  {
   "cell_type": "code",
   "execution_count": 48,
   "metadata": {
    "colab": {
     "base_uri": "https://localhost:8080/"
    },
    "id": "w8WFt6XylLBS",
    "outputId": "713cfbff-32e9-49df-9529-ed1876484ece"
   },
   "outputs": [
    {
     "name": "stderr",
     "output_type": "stream",
     "text": [
      "/usr/local/lib/python3.7/dist-packages/keras/optimizer_v2/adam.py:105: UserWarning: The `lr` argument is deprecated, use `learning_rate` instead.\n",
      "  super(Adam, self).__init__(name, **kwargs)\n"
     ]
    },
    {
     "name": "stdout",
     "output_type": "stream",
     "text": [
      "Epoch 1/60\n",
      "2/2 [==============================] - 2s 487ms/step - loss: 0.0527 - val_loss: 0.0323\n",
      "Epoch 2/60\n",
      "2/2 [==============================] - 0s 26ms/step - loss: 0.0328 - val_loss: 0.0317\n",
      "Epoch 3/60\n",
      "2/2 [==============================] - 0s 30ms/step - loss: 0.0337 - val_loss: 0.0348\n",
      "Epoch 4/60\n",
      "2/2 [==============================] - 0s 28ms/step - loss: 0.0351 - val_loss: 0.0336\n",
      "Epoch 5/60\n",
      "2/2 [==============================] - 0s 28ms/step - loss: 0.0328 - val_loss: 0.0313\n",
      "Epoch 6/60\n",
      "2/2 [==============================] - 0s 28ms/step - loss: 0.0301 - val_loss: 0.0296\n",
      "Epoch 7/60\n",
      "2/2 [==============================] - 0s 28ms/step - loss: 0.0287 - val_loss: 0.0295\n",
      "Epoch 8/60\n",
      "2/2 [==============================] - 0s 32ms/step - loss: 0.0283 - val_loss: 0.0297\n",
      "Epoch 9/60\n",
      "2/2 [==============================] - 0s 48ms/step - loss: 0.0282 - val_loss: 0.0300\n",
      "Epoch 10/60\n",
      "2/2 [==============================] - 0s 27ms/step - loss: 0.0282 - val_loss: 0.0299\n",
      "Epoch 11/60\n",
      "2/2 [==============================] - 0s 29ms/step - loss: 0.0279 - val_loss: 0.0299\n",
      "Epoch 12/60\n",
      "2/2 [==============================] - 0s 35ms/step - loss: 0.0272 - val_loss: 0.0297\n",
      "Epoch 13/60\n",
      "2/2 [==============================] - 0s 30ms/step - loss: 0.0267 - val_loss: 0.0297\n",
      "Epoch 14/60\n",
      "2/2 [==============================] - 0s 27ms/step - loss: 0.0266 - val_loss: 0.0299\n",
      "Epoch 15/60\n",
      "2/2 [==============================] - 0s 31ms/step - loss: 0.0263 - val_loss: 0.0300\n",
      "Epoch 16/60\n",
      "2/2 [==============================] - 0s 29ms/step - loss: 0.0263 - val_loss: 0.0300\n",
      "Epoch 17/60\n",
      "2/2 [==============================] - 0s 28ms/step - loss: 0.0265 - val_loss: 0.0300\n",
      "Epoch 18/60\n",
      "2/2 [==============================] - 0s 29ms/step - loss: 0.0263 - val_loss: 0.0299\n",
      "Epoch 19/60\n",
      "2/2 [==============================] - 0s 27ms/step - loss: 0.0260 - val_loss: 0.0298\n",
      "Epoch 20/60\n",
      "2/2 [==============================] - 0s 29ms/step - loss: 0.0260 - val_loss: 0.0299\n",
      "Epoch 21/60\n",
      "2/2 [==============================] - 0s 29ms/step - loss: 0.0259 - val_loss: 0.0297\n",
      "Epoch 22/60\n",
      "2/2 [==============================] - 0s 38ms/step - loss: 0.0259 - val_loss: 0.0296\n",
      "Epoch 23/60\n",
      "2/2 [==============================] - 0s 27ms/step - loss: 0.0258 - val_loss: 0.0295\n",
      "Epoch 24/60\n",
      "2/2 [==============================] - 0s 37ms/step - loss: 0.0260 - val_loss: 0.0295\n",
      "Epoch 25/60\n",
      "2/2 [==============================] - 0s 27ms/step - loss: 0.0259 - val_loss: 0.0294\n",
      "Epoch 26/60\n",
      "2/2 [==============================] - 0s 27ms/step - loss: 0.0258 - val_loss: 0.0294\n",
      "Epoch 27/60\n",
      "2/2 [==============================] - 0s 29ms/step - loss: 0.0255 - val_loss: 0.0294\n",
      "Epoch 28/60\n",
      "2/2 [==============================] - 0s 30ms/step - loss: 0.0255 - val_loss: 0.0293\n",
      "Epoch 29/60\n",
      "2/2 [==============================] - 0s 32ms/step - loss: 0.0255 - val_loss: 0.0293\n",
      "Epoch 30/60\n",
      "2/2 [==============================] - 0s 30ms/step - loss: 0.0254 - val_loss: 0.0293\n",
      "Epoch 31/60\n",
      "2/2 [==============================] - 0s 26ms/step - loss: 0.0254 - val_loss: 0.0292\n",
      "Epoch 32/60\n",
      "2/2 [==============================] - 0s 47ms/step - loss: 0.0254 - val_loss: 0.0291\n",
      "Epoch 33/60\n",
      "2/2 [==============================] - 0s 52ms/step - loss: 0.0253 - val_loss: 0.0291\n",
      "Epoch 34/60\n",
      "2/2 [==============================] - 0s 31ms/step - loss: 0.0253 - val_loss: 0.0291\n",
      "Epoch 35/60\n",
      "2/2 [==============================] - 0s 29ms/step - loss: 0.0252 - val_loss: 0.0290\n",
      "Epoch 36/60\n",
      "2/2 [==============================] - 0s 27ms/step - loss: 0.0254 - val_loss: 0.0291\n",
      "Epoch 37/60\n",
      "2/2 [==============================] - 0s 30ms/step - loss: 0.0254 - val_loss: 0.0290\n",
      "Epoch 38/60\n",
      "2/2 [==============================] - 0s 27ms/step - loss: 0.0252 - val_loss: 0.0290\n",
      "Epoch 39/60\n",
      "2/2 [==============================] - 0s 29ms/step - loss: 0.0252 - val_loss: 0.0290\n",
      "Epoch 40/60\n",
      "2/2 [==============================] - 0s 27ms/step - loss: 0.0252 - val_loss: 0.0290\n",
      "Epoch 41/60\n",
      "2/2 [==============================] - 0s 27ms/step - loss: 0.0251 - val_loss: 0.0290\n",
      "Epoch 42/60\n",
      "2/2 [==============================] - 0s 27ms/step - loss: 0.0252 - val_loss: 0.0290\n",
      "Epoch 43/60\n",
      "2/2 [==============================] - 0s 32ms/step - loss: 0.0251 - val_loss: 0.0290\n",
      "Epoch 44/60\n",
      "2/2 [==============================] - 0s 26ms/step - loss: 0.0251 - val_loss: 0.0290\n",
      "Epoch 45/60\n",
      "2/2 [==============================] - 0s 28ms/step - loss: 0.0250 - val_loss: 0.0290\n",
      "Epoch 46/60\n",
      "2/2 [==============================] - 0s 29ms/step - loss: 0.0250 - val_loss: 0.0290\n",
      "Epoch 47/60\n",
      "2/2 [==============================] - 0s 29ms/step - loss: 0.0250 - val_loss: 0.0290\n",
      "Epoch 48/60\n",
      "2/2 [==============================] - 0s 28ms/step - loss: 0.0250 - val_loss: 0.0289\n",
      "Epoch 49/60\n",
      "2/2 [==============================] - 0s 33ms/step - loss: 0.0250 - val_loss: 0.0289\n",
      "Epoch 50/60\n",
      "2/2 [==============================] - 0s 27ms/step - loss: 0.0250 - val_loss: 0.0290\n",
      "Epoch 51/60\n",
      "2/2 [==============================] - 0s 33ms/step - loss: 0.0250 - val_loss: 0.0290\n",
      "Epoch 52/60\n",
      "2/2 [==============================] - 0s 34ms/step - loss: 0.0251 - val_loss: 0.0290\n",
      "Epoch 53/60\n",
      "2/2 [==============================] - 0s 35ms/step - loss: 0.0249 - val_loss: 0.0289\n",
      "Epoch 54/60\n",
      "2/2 [==============================] - 0s 48ms/step - loss: 0.0249 - val_loss: 0.0290\n",
      "Epoch 55/60\n",
      "2/2 [==============================] - 0s 30ms/step - loss: 0.0249 - val_loss: 0.0290\n",
      "Epoch 56/60\n",
      "2/2 [==============================] - 0s 28ms/step - loss: 0.0249 - val_loss: 0.0290\n",
      "Epoch 57/60\n",
      "2/2 [==============================] - 0s 28ms/step - loss: 0.0249 - val_loss: 0.0290\n",
      "Epoch 58/60\n",
      "2/2 [==============================] - 0s 31ms/step - loss: 0.0249 - val_loss: 0.0289\n",
      "Epoch 59/60\n",
      "2/2 [==============================] - 0s 28ms/step - loss: 0.0248 - val_loss: 0.0289\n",
      "Epoch 60/60\n",
      "2/2 [==============================] - 0s 33ms/step - loss: 0.0247 - val_loss: 0.0290\n",
      "0.3306399136377707\n"
     ]
    }
   ],
   "source": [
    "bean=dataa[['콩_x','콩_y']]\n",
    "data=bean.values\n",
    "train = data[:(len(data) - int(len(data)*0.3))]\n",
    "test = data[:int(len(data)*0.3)]\n",
    "transformer = MinMaxScaler()\n",
    "train = transformer.fit_transform(train)\n",
    "test = transformer.transform(test)\n",
    "\n",
    "sequence_length = 7\n",
    "window_length = sequence_length + 1\n",
    "\n",
    "x_train = []\n",
    "y_train = []\n",
    "for i in range(0, len(train) - window_length + 1):\n",
    "    window = train[i:i + window_length, :]\n",
    "    x_train.append(window[:-1])\n",
    "    y_train.append(window[-1])\n",
    "x_train = np.array(x_train)\n",
    "y_train = np.array(y_train)\n",
    "\n",
    "x_test = []\n",
    "y_test = []\n",
    "for i in range(0, len(test) - window_length + 1):\n",
    "    window = test[i:i + window_length, :]\n",
    "    x_test.append(window[:-1])\n",
    "    y_test.append(window[-1])\n",
    "x_test = np.array(x_test)\n",
    "y_test = np.array(y_test)\n",
    "\n",
    "model.compile(loss='mean_squared_error', optimizer=Adam(lr=0.01))\n",
    "model.fit(x_train, y_train, epochs=60, validation_data=(x_test, y_test))\n",
    "y_predict = model.predict(x_test)\n",
    "y_predict_inverse=transformer.inverse_transform(y_predict)\n",
    "y_test_inverse=transformer.inverse_transform(y_test)\n",
    "print(mean_absolute_percentage_error(y_test_inverse,y_predict_inverse))"
   ]
  },
  {
   "cell_type": "markdown",
   "metadata": {
    "id": "csjPiL8_m9y6"
   },
   "source": [
    "팥 가격과 수입량"
   ]
  },
  {
   "cell_type": "code",
   "execution_count": 49,
   "metadata": {
    "colab": {
     "base_uri": "https://localhost:8080/"
    },
    "id": "XT1Q_EUylK6q",
    "outputId": "94526318-84ea-4a33-ab10-651934adca99"
   },
   "outputs": [
    {
     "name": "stderr",
     "output_type": "stream",
     "text": [
      "/usr/local/lib/python3.7/dist-packages/keras/optimizer_v2/adam.py:105: UserWarning: The `lr` argument is deprecated, use `learning_rate` instead.\n",
      "  super(Adam, self).__init__(name, **kwargs)\n"
     ]
    },
    {
     "name": "stdout",
     "output_type": "stream",
     "text": [
      "Epoch 1/60\n",
      "2/2 [==============================] - 3s 483ms/step - loss: 0.0747 - val_loss: 0.0815\n",
      "Epoch 2/60\n",
      "2/2 [==============================] - 0s 28ms/step - loss: 0.0625 - val_loss: 0.0752\n",
      "Epoch 3/60\n",
      "2/2 [==============================] - 0s 27ms/step - loss: 0.0573 - val_loss: 0.0729\n",
      "Epoch 4/60\n",
      "2/2 [==============================] - 0s 28ms/step - loss: 0.0569 - val_loss: 0.0711\n",
      "Epoch 5/60\n",
      "2/2 [==============================] - 0s 27ms/step - loss: 0.0554 - val_loss: 0.0688\n",
      "Epoch 6/60\n",
      "2/2 [==============================] - 0s 28ms/step - loss: 0.0536 - val_loss: 0.0668\n",
      "Epoch 7/60\n",
      "2/2 [==============================] - 0s 30ms/step - loss: 0.0518 - val_loss: 0.0657\n",
      "Epoch 8/60\n",
      "2/2 [==============================] - 0s 30ms/step - loss: 0.0517 - val_loss: 0.0655\n",
      "Epoch 9/60\n",
      "2/2 [==============================] - 0s 30ms/step - loss: 0.0510 - val_loss: 0.0649\n",
      "Epoch 10/60\n",
      "2/2 [==============================] - 0s 28ms/step - loss: 0.0511 - val_loss: 0.0639\n",
      "Epoch 11/60\n",
      "2/2 [==============================] - 0s 30ms/step - loss: 0.0501 - val_loss: 0.0632\n",
      "Epoch 12/60\n",
      "2/2 [==============================] - 0s 28ms/step - loss: 0.0504 - val_loss: 0.0627\n",
      "Epoch 13/60\n",
      "2/2 [==============================] - 0s 33ms/step - loss: 0.0497 - val_loss: 0.0625\n",
      "Epoch 14/60\n",
      "2/2 [==============================] - 0s 31ms/step - loss: 0.0497 - val_loss: 0.0626\n",
      "Epoch 15/60\n",
      "2/2 [==============================] - 0s 29ms/step - loss: 0.0498 - val_loss: 0.0622\n",
      "Epoch 16/60\n",
      "2/2 [==============================] - 0s 29ms/step - loss: 0.0496 - val_loss: 0.0620\n",
      "Epoch 17/60\n",
      "2/2 [==============================] - 0s 29ms/step - loss: 0.0494 - val_loss: 0.0617\n",
      "Epoch 18/60\n",
      "2/2 [==============================] - 0s 27ms/step - loss: 0.0493 - val_loss: 0.0616\n",
      "Epoch 19/60\n",
      "2/2 [==============================] - 0s 32ms/step - loss: 0.0496 - val_loss: 0.0614\n",
      "Epoch 20/60\n",
      "2/2 [==============================] - 0s 26ms/step - loss: 0.0493 - val_loss: 0.0613\n",
      "Epoch 21/60\n",
      "2/2 [==============================] - 0s 27ms/step - loss: 0.0500 - val_loss: 0.0616\n",
      "Epoch 22/60\n",
      "2/2 [==============================] - 0s 32ms/step - loss: 0.0492 - val_loss: 0.0610\n",
      "Epoch 23/60\n",
      "2/2 [==============================] - 0s 27ms/step - loss: 0.0487 - val_loss: 0.0605\n",
      "Epoch 24/60\n",
      "2/2 [==============================] - 0s 28ms/step - loss: 0.0488 - val_loss: 0.0603\n",
      "Epoch 25/60\n",
      "2/2 [==============================] - 0s 29ms/step - loss: 0.0497 - val_loss: 0.0602\n",
      "Epoch 26/60\n",
      "2/2 [==============================] - 0s 27ms/step - loss: 0.0490 - val_loss: 0.0598\n",
      "Epoch 27/60\n",
      "2/2 [==============================] - 0s 30ms/step - loss: 0.0484 - val_loss: 0.0602\n",
      "Epoch 28/60\n",
      "2/2 [==============================] - 0s 31ms/step - loss: 0.0489 - val_loss: 0.0608\n",
      "Epoch 29/60\n",
      "2/2 [==============================] - 0s 40ms/step - loss: 0.0488 - val_loss: 0.0599\n",
      "Epoch 30/60\n",
      "2/2 [==============================] - 0s 34ms/step - loss: 0.0492 - val_loss: 0.0588\n",
      "Epoch 31/60\n",
      "2/2 [==============================] - 0s 28ms/step - loss: 0.0481 - val_loss: 0.0584\n",
      "Epoch 32/60\n",
      "2/2 [==============================] - 0s 29ms/step - loss: 0.0481 - val_loss: 0.0580\n",
      "Epoch 33/60\n",
      "2/2 [==============================] - 0s 28ms/step - loss: 0.0475 - val_loss: 0.0577\n",
      "Epoch 34/60\n",
      "2/2 [==============================] - 0s 26ms/step - loss: 0.0482 - val_loss: 0.0582\n",
      "Epoch 35/60\n",
      "2/2 [==============================] - 0s 30ms/step - loss: 0.0479 - val_loss: 0.0567\n",
      "Epoch 36/60\n",
      "2/2 [==============================] - 0s 34ms/step - loss: 0.0468 - val_loss: 0.0559\n",
      "Epoch 37/60\n",
      "2/2 [==============================] - 0s 30ms/step - loss: 0.0465 - val_loss: 0.0550\n",
      "Epoch 38/60\n",
      "2/2 [==============================] - 0s 31ms/step - loss: 0.0470 - val_loss: 0.0542\n",
      "Epoch 39/60\n",
      "2/2 [==============================] - 0s 30ms/step - loss: 0.0459 - val_loss: 0.0540\n",
      "Epoch 40/60\n",
      "2/2 [==============================] - 0s 27ms/step - loss: 0.0458 - val_loss: 0.0541\n",
      "Epoch 41/60\n",
      "2/2 [==============================] - 0s 29ms/step - loss: 0.0464 - val_loss: 0.0529\n",
      "Epoch 42/60\n",
      "2/2 [==============================] - 0s 27ms/step - loss: 0.0452 - val_loss: 0.0520\n",
      "Epoch 43/60\n",
      "2/2 [==============================] - 0s 31ms/step - loss: 0.0463 - val_loss: 0.0516\n",
      "Epoch 44/60\n",
      "2/2 [==============================] - 0s 28ms/step - loss: 0.0448 - val_loss: 0.0527\n",
      "Epoch 45/60\n",
      "2/2 [==============================] - 0s 27ms/step - loss: 0.0456 - val_loss: 0.0533\n",
      "Epoch 46/60\n",
      "2/2 [==============================] - 0s 27ms/step - loss: 0.0447 - val_loss: 0.0511\n",
      "Epoch 47/60\n",
      "2/2 [==============================] - 0s 34ms/step - loss: 0.0437 - val_loss: 0.0506\n",
      "Epoch 48/60\n",
      "2/2 [==============================] - 0s 27ms/step - loss: 0.0450 - val_loss: 0.0501\n",
      "Epoch 49/60\n",
      "2/2 [==============================] - 0s 26ms/step - loss: 0.0439 - val_loss: 0.0498\n",
      "Epoch 50/60\n",
      "2/2 [==============================] - 0s 27ms/step - loss: 0.0453 - val_loss: 0.0523\n",
      "Epoch 51/60\n",
      "2/2 [==============================] - 0s 30ms/step - loss: 0.0447 - val_loss: 0.0500\n",
      "Epoch 52/60\n",
      "2/2 [==============================] - 0s 28ms/step - loss: 0.0432 - val_loss: 0.0487\n",
      "Epoch 53/60\n",
      "2/2 [==============================] - 0s 26ms/step - loss: 0.0428 - val_loss: 0.0484\n",
      "Epoch 54/60\n",
      "2/2 [==============================] - 0s 27ms/step - loss: 0.0429 - val_loss: 0.0476\n",
      "Epoch 55/60\n",
      "2/2 [==============================] - 0s 27ms/step - loss: 0.0420 - val_loss: 0.0475\n",
      "Epoch 56/60\n",
      "2/2 [==============================] - 0s 32ms/step - loss: 0.0424 - val_loss: 0.0476\n",
      "Epoch 57/60\n",
      "2/2 [==============================] - 0s 35ms/step - loss: 0.0420 - val_loss: 0.0467\n",
      "Epoch 58/60\n",
      "2/2 [==============================] - 0s 28ms/step - loss: 0.0414 - val_loss: 0.0465\n",
      "Epoch 59/60\n",
      "2/2 [==============================] - 0s 29ms/step - loss: 0.0416 - val_loss: 0.0458\n",
      "Epoch 60/60\n",
      "2/2 [==============================] - 0s 26ms/step - loss: 0.0411 - val_loss: 0.0454\n",
      "WARNING:tensorflow:5 out of the last 8 calls to <function Model.make_predict_function.<locals>.predict_function at 0x7f4aa9149440> triggered tf.function retracing. Tracing is expensive and the excessive number of tracings could be due to (1) creating @tf.function repeatedly in a loop, (2) passing tensors with different shapes, (3) passing Python objects instead of tensors. For (1), please define your @tf.function outside of the loop. For (2), @tf.function has experimental_relax_shapes=True option that relaxes argument shapes that can avoid unnecessary retracing. For (3), please refer to https://www.tensorflow.org/guide/function#controlling_retracing and https://www.tensorflow.org/api_docs/python/tf/function for  more details.\n",
      "1.217329327348157\n"
     ]
    }
   ],
   "source": [
    "pat=dataa[['팥_x','팥_y']]\n",
    "data=pat.values\n",
    "train = data[:(len(data) - int(len(data)*0.3))]\n",
    "test = data[:int(len(data)*0.3)]\n",
    "transformer = MinMaxScaler()\n",
    "train = transformer.fit_transform(train)\n",
    "test = transformer.transform(test)\n",
    "\n",
    "sequence_length = 7\n",
    "window_length = sequence_length + 1\n",
    "\n",
    "x_train = []\n",
    "y_train = []\n",
    "for i in range(0, len(train) - window_length + 1):\n",
    "    window = train[i:i + window_length, :]\n",
    "    x_train.append(window[:-1])\n",
    "    y_train.append(window[-1])\n",
    "x_train = np.array(x_train)\n",
    "y_train = np.array(y_train)\n",
    "\n",
    "x_test = []\n",
    "y_test = []\n",
    "for i in range(0, len(test) - window_length + 1):\n",
    "    window = test[i:i + window_length, :]\n",
    "    x_test.append(window[:-1])\n",
    "    y_test.append(window[-1])\n",
    "x_test = np.array(x_test)\n",
    "y_test = np.array(y_test)\n",
    "\n",
    "model.compile(loss='mean_squared_error', optimizer=Adam(lr=0.01))\n",
    "model.fit(x_train, y_train, epochs=60, validation_data=(x_test, y_test))\n",
    "y_predict = model.predict(x_test)\n",
    "y_predict_inverse=transformer.inverse_transform(y_predict)\n",
    "y_test_inverse=transformer.inverse_transform(y_test)\n",
    "print(mean_absolute_percentage_error(y_test_inverse,y_predict_inverse))"
   ]
  },
  {
   "cell_type": "markdown",
   "metadata": {
    "id": "8XsdXiC0nJLY"
   },
   "source": [
    "#녹두 수입량과 가격"
   ]
  },
  {
   "cell_type": "code",
   "execution_count": 51,
   "metadata": {
    "colab": {
     "base_uri": "https://localhost:8080/"
    },
    "id": "EC1W_J9tnQVv",
    "outputId": "ceed6b1b-8a1c-470e-b988-2ce272378bbc"
   },
   "outputs": [
    {
     "name": "stderr",
     "output_type": "stream",
     "text": [
      "/usr/local/lib/python3.7/dist-packages/keras/optimizer_v2/adam.py:105: UserWarning: The `lr` argument is deprecated, use `learning_rate` instead.\n",
      "  super(Adam, self).__init__(name, **kwargs)\n"
     ]
    },
    {
     "name": "stdout",
     "output_type": "stream",
     "text": [
      "Epoch 1/60\n",
      "2/2 [==============================] - 2s 494ms/step - loss: 0.0524 - val_loss: 0.0537\n",
      "Epoch 2/60\n",
      "2/2 [==============================] - 0s 25ms/step - loss: 0.0503 - val_loss: 0.0567\n",
      "Epoch 3/60\n",
      "2/2 [==============================] - 0s 28ms/step - loss: 0.0506 - val_loss: 0.0579\n",
      "Epoch 4/60\n",
      "2/2 [==============================] - 0s 27ms/step - loss: 0.0495 - val_loss: 0.0545\n",
      "Epoch 5/60\n",
      "2/2 [==============================] - 0s 32ms/step - loss: 0.0483 - val_loss: 0.0534\n",
      "Epoch 6/60\n",
      "2/2 [==============================] - 0s 27ms/step - loss: 0.0484 - val_loss: 0.0536\n",
      "Epoch 7/60\n",
      "2/2 [==============================] - 0s 32ms/step - loss: 0.0485 - val_loss: 0.0533\n",
      "Epoch 8/60\n",
      "2/2 [==============================] - 0s 31ms/step - loss: 0.0479 - val_loss: 0.0534\n",
      "Epoch 9/60\n",
      "2/2 [==============================] - 0s 29ms/step - loss: 0.0472 - val_loss: 0.0537\n",
      "Epoch 10/60\n",
      "2/2 [==============================] - 0s 28ms/step - loss: 0.0473 - val_loss: 0.0543\n",
      "Epoch 11/60\n",
      "2/2 [==============================] - 0s 28ms/step - loss: 0.0474 - val_loss: 0.0540\n",
      "Epoch 12/60\n",
      "2/2 [==============================] - 0s 32ms/step - loss: 0.0475 - val_loss: 0.0534\n",
      "Epoch 13/60\n",
      "2/2 [==============================] - 0s 30ms/step - loss: 0.0470 - val_loss: 0.0527\n",
      "Epoch 14/60\n",
      "2/2 [==============================] - 0s 28ms/step - loss: 0.0467 - val_loss: 0.0525\n",
      "Epoch 15/60\n",
      "2/2 [==============================] - 0s 32ms/step - loss: 0.0471 - val_loss: 0.0525\n",
      "Epoch 16/60\n",
      "2/2 [==============================] - 0s 28ms/step - loss: 0.0474 - val_loss: 0.0526\n",
      "Epoch 17/60\n",
      "2/2 [==============================] - 0s 36ms/step - loss: 0.0467 - val_loss: 0.0527\n",
      "Epoch 18/60\n",
      "2/2 [==============================] - 0s 27ms/step - loss: 0.0466 - val_loss: 0.0532\n",
      "Epoch 19/60\n",
      "2/2 [==============================] - 0s 27ms/step - loss: 0.0468 - val_loss: 0.0533\n",
      "Epoch 20/60\n",
      "2/2 [==============================] - 0s 30ms/step - loss: 0.0468 - val_loss: 0.0532\n",
      "Epoch 21/60\n",
      "2/2 [==============================] - 0s 27ms/step - loss: 0.0468 - val_loss: 0.0528\n",
      "Epoch 22/60\n",
      "2/2 [==============================] - 0s 30ms/step - loss: 0.0465 - val_loss: 0.0526\n",
      "Epoch 23/60\n",
      "2/2 [==============================] - 0s 30ms/step - loss: 0.0465 - val_loss: 0.0524\n",
      "Epoch 24/60\n",
      "2/2 [==============================] - 0s 29ms/step - loss: 0.0466 - val_loss: 0.0526\n",
      "Epoch 25/60\n",
      "2/2 [==============================] - 0s 28ms/step - loss: 0.0464 - val_loss: 0.0527\n",
      "Epoch 26/60\n",
      "2/2 [==============================] - 0s 28ms/step - loss: 0.0464 - val_loss: 0.0527\n",
      "Epoch 27/60\n",
      "2/2 [==============================] - 0s 35ms/step - loss: 0.0463 - val_loss: 0.0523\n",
      "Epoch 28/60\n",
      "2/2 [==============================] - 0s 31ms/step - loss: 0.0466 - val_loss: 0.0522\n",
      "Epoch 29/60\n",
      "2/2 [==============================] - 0s 31ms/step - loss: 0.0463 - val_loss: 0.0522\n",
      "Epoch 30/60\n",
      "2/2 [==============================] - 0s 27ms/step - loss: 0.0459 - val_loss: 0.0524\n",
      "Epoch 31/60\n",
      "2/2 [==============================] - 0s 32ms/step - loss: 0.0459 - val_loss: 0.0524\n",
      "Epoch 32/60\n",
      "2/2 [==============================] - 0s 27ms/step - loss: 0.0460 - val_loss: 0.0522\n",
      "Epoch 33/60\n",
      "2/2 [==============================] - 0s 26ms/step - loss: 0.0468 - val_loss: 0.0519\n",
      "Epoch 34/60\n",
      "2/2 [==============================] - 0s 33ms/step - loss: 0.0458 - val_loss: 0.0520\n",
      "Epoch 35/60\n",
      "2/2 [==============================] - 0s 30ms/step - loss: 0.0457 - val_loss: 0.0520\n",
      "Epoch 36/60\n",
      "2/2 [==============================] - 0s 30ms/step - loss: 0.0457 - val_loss: 0.0521\n",
      "Epoch 37/60\n",
      "2/2 [==============================] - 0s 28ms/step - loss: 0.0457 - val_loss: 0.0518\n",
      "Epoch 38/60\n",
      "2/2 [==============================] - 0s 28ms/step - loss: 0.0458 - val_loss: 0.0519\n",
      "Epoch 39/60\n",
      "2/2 [==============================] - 0s 30ms/step - loss: 0.0459 - val_loss: 0.0518\n",
      "Epoch 40/60\n",
      "2/2 [==============================] - 0s 33ms/step - loss: 0.0454 - val_loss: 0.0517\n",
      "Epoch 41/60\n",
      "2/2 [==============================] - 0s 40ms/step - loss: 0.0454 - val_loss: 0.0516\n",
      "Epoch 42/60\n",
      "2/2 [==============================] - 0s 32ms/step - loss: 0.0452 - val_loss: 0.0516\n",
      "Epoch 43/60\n",
      "2/2 [==============================] - 0s 28ms/step - loss: 0.0450 - val_loss: 0.0516\n",
      "Epoch 44/60\n",
      "2/2 [==============================] - 0s 27ms/step - loss: 0.0456 - val_loss: 0.0515\n",
      "Epoch 45/60\n",
      "2/2 [==============================] - 0s 27ms/step - loss: 0.0453 - val_loss: 0.0511\n",
      "Epoch 46/60\n",
      "2/2 [==============================] - 0s 28ms/step - loss: 0.0448 - val_loss: 0.0509\n",
      "Epoch 47/60\n",
      "2/2 [==============================] - 0s 26ms/step - loss: 0.0445 - val_loss: 0.0510\n",
      "Epoch 48/60\n",
      "2/2 [==============================] - 0s 32ms/step - loss: 0.0447 - val_loss: 0.0511\n",
      "Epoch 49/60\n",
      "2/2 [==============================] - 0s 27ms/step - loss: 0.0446 - val_loss: 0.0509\n",
      "Epoch 50/60\n",
      "2/2 [==============================] - 0s 27ms/step - loss: 0.0442 - val_loss: 0.0509\n",
      "Epoch 51/60\n",
      "2/2 [==============================] - 0s 29ms/step - loss: 0.0474 - val_loss: 0.0519\n",
      "Epoch 52/60\n",
      "2/2 [==============================] - 0s 29ms/step - loss: 0.0449 - val_loss: 0.0505\n",
      "Epoch 53/60\n",
      "2/2 [==============================] - 0s 27ms/step - loss: 0.0450 - val_loss: 0.0509\n",
      "Epoch 54/60\n",
      "2/2 [==============================] - 0s 29ms/step - loss: 0.0444 - val_loss: 0.0504\n",
      "Epoch 55/60\n",
      "2/2 [==============================] - 0s 31ms/step - loss: 0.0439 - val_loss: 0.0500\n",
      "Epoch 56/60\n",
      "2/2 [==============================] - 0s 33ms/step - loss: 0.0434 - val_loss: 0.0497\n",
      "Epoch 57/60\n",
      "2/2 [==============================] - 0s 29ms/step - loss: 0.0432 - val_loss: 0.0492\n",
      "Epoch 58/60\n",
      "2/2 [==============================] - 0s 29ms/step - loss: 0.0430 - val_loss: 0.0490\n",
      "Epoch 59/60\n",
      "2/2 [==============================] - 0s 28ms/step - loss: 0.0424 - val_loss: 0.0488\n",
      "Epoch 60/60\n",
      "2/2 [==============================] - 0s 30ms/step - loss: 0.0420 - val_loss: 0.0486\n",
      "6.959254374475179\n"
     ]
    }
   ],
   "source": [
    "du=dataa[['녹두_x','녹두_y']]\n",
    "data=du.values\n",
    "train = data[:(len(data) - int(len(data)*0.3))]\n",
    "test = data[:int(len(data)*0.3)]\n",
    "transformer = MinMaxScaler()\n",
    "train = transformer.fit_transform(train)\n",
    "test = transformer.transform(test)\n",
    "\n",
    "sequence_length = 7\n",
    "window_length = sequence_length + 1\n",
    "\n",
    "x_train = []\n",
    "y_train = []\n",
    "for i in range(0, len(train) - window_length + 1):\n",
    "    window = train[i:i + window_length, :]\n",
    "    x_train.append(window[:-1])\n",
    "    y_train.append(window[-1])\n",
    "x_train = np.array(x_train)\n",
    "y_train = np.array(y_train)\n",
    "\n",
    "x_test = []\n",
    "y_test = []\n",
    "for i in range(0, len(test) - window_length + 1):\n",
    "    window = test[i:i + window_length, :]\n",
    "    x_test.append(window[:-1])\n",
    "    y_test.append(window[-1])\n",
    "x_test = np.array(x_test)\n",
    "y_test = np.array(y_test)\n",
    "\n",
    "model.compile(loss='mean_squared_error', optimizer=Adam(lr=0.01))\n",
    "model.fit(x_train, y_train, epochs=60, validation_data=(x_test, y_test))\n",
    "y_predict = model.predict(x_test)\n",
    "y_predict_inverse=transformer.inverse_transform(y_predict)\n",
    "y_test_inverse=transformer.inverse_transform(y_test)\n",
    "print(mean_absolute_percentage_error(y_test_inverse,y_predict_inverse))"
   ]
  },
  {
   "cell_type": "markdown",
   "metadata": {
    "id": "XYhHrdhHnLv4"
   },
   "source": [
    "#메밀 수입량과 가격"
   ]
  },
  {
   "cell_type": "code",
   "execution_count": 52,
   "metadata": {
    "colab": {
     "base_uri": "https://localhost:8080/"
    },
    "id": "HT8SRyxtnQ4o",
    "outputId": "a9721ec6-e038-417c-cce8-61ff3631ea9a"
   },
   "outputs": [
    {
     "name": "stderr",
     "output_type": "stream",
     "text": [
      "/usr/local/lib/python3.7/dist-packages/keras/optimizer_v2/adam.py:105: UserWarning: The `lr` argument is deprecated, use `learning_rate` instead.\n",
      "  super(Adam, self).__init__(name, **kwargs)\n"
     ]
    },
    {
     "name": "stdout",
     "output_type": "stream",
     "text": [
      "Epoch 1/60\n",
      "2/2 [==============================] - 3s 486ms/step - loss: 0.1256 - val_loss: 0.0767\n",
      "Epoch 2/60\n",
      "2/2 [==============================] - 0s 28ms/step - loss: 0.0607 - val_loss: 0.0468\n",
      "Epoch 3/60\n",
      "2/2 [==============================] - 0s 26ms/step - loss: 0.0469 - val_loss: 0.0433\n",
      "Epoch 4/60\n",
      "2/2 [==============================] - 0s 29ms/step - loss: 0.0489 - val_loss: 0.0446\n",
      "Epoch 5/60\n",
      "2/2 [==============================] - 0s 28ms/step - loss: 0.0511 - val_loss: 0.0444\n",
      "Epoch 6/60\n",
      "2/2 [==============================] - 0s 28ms/step - loss: 0.0502 - val_loss: 0.0432\n",
      "Epoch 7/60\n",
      "2/2 [==============================] - 0s 30ms/step - loss: 0.0484 - val_loss: 0.0423\n",
      "Epoch 8/60\n",
      "2/2 [==============================] - 0s 26ms/step - loss: 0.0466 - val_loss: 0.0422\n",
      "Epoch 9/60\n",
      "2/2 [==============================] - 0s 26ms/step - loss: 0.0465 - val_loss: 0.0427\n",
      "Epoch 10/60\n",
      "2/2 [==============================] - 0s 26ms/step - loss: 0.0460 - val_loss: 0.0433\n",
      "Epoch 11/60\n",
      "2/2 [==============================] - 0s 30ms/step - loss: 0.0460 - val_loss: 0.0437\n",
      "Epoch 12/60\n",
      "2/2 [==============================] - 0s 28ms/step - loss: 0.0460 - val_loss: 0.0438\n",
      "Epoch 13/60\n",
      "2/2 [==============================] - 0s 29ms/step - loss: 0.0460 - val_loss: 0.0438\n",
      "Epoch 14/60\n",
      "2/2 [==============================] - 0s 29ms/step - loss: 0.0458 - val_loss: 0.0435\n",
      "Epoch 15/60\n",
      "2/2 [==============================] - 0s 27ms/step - loss: 0.0455 - val_loss: 0.0431\n",
      "Epoch 16/60\n",
      "2/2 [==============================] - 0s 29ms/step - loss: 0.0454 - val_loss: 0.0428\n",
      "Epoch 17/60\n",
      "2/2 [==============================] - 0s 28ms/step - loss: 0.0451 - val_loss: 0.0426\n",
      "Epoch 18/60\n",
      "2/2 [==============================] - 0s 30ms/step - loss: 0.0451 - val_loss: 0.0424\n",
      "Epoch 19/60\n",
      "2/2 [==============================] - 0s 31ms/step - loss: 0.0450 - val_loss: 0.0422\n",
      "Epoch 20/60\n",
      "2/2 [==============================] - 0s 34ms/step - loss: 0.0448 - val_loss: 0.0421\n",
      "Epoch 21/60\n",
      "2/2 [==============================] - 0s 34ms/step - loss: 0.0445 - val_loss: 0.0420\n",
      "Epoch 22/60\n",
      "2/2 [==============================] - 0s 27ms/step - loss: 0.0443 - val_loss: 0.0419\n",
      "Epoch 23/60\n",
      "2/2 [==============================] - 0s 27ms/step - loss: 0.0442 - val_loss: 0.0418\n",
      "Epoch 24/60\n",
      "2/2 [==============================] - 0s 30ms/step - loss: 0.0440 - val_loss: 0.0418\n",
      "Epoch 25/60\n",
      "2/2 [==============================] - 0s 27ms/step - loss: 0.0439 - val_loss: 0.0416\n",
      "Epoch 26/60\n",
      "2/2 [==============================] - 0s 31ms/step - loss: 0.0438 - val_loss: 0.0414\n",
      "Epoch 27/60\n",
      "2/2 [==============================] - 0s 28ms/step - loss: 0.0437 - val_loss: 0.0413\n",
      "Epoch 28/60\n",
      "2/2 [==============================] - 0s 30ms/step - loss: 0.0436 - val_loss: 0.0412\n",
      "Epoch 29/60\n",
      "2/2 [==============================] - 0s 27ms/step - loss: 0.0435 - val_loss: 0.0411\n",
      "Epoch 30/60\n",
      "2/2 [==============================] - 0s 31ms/step - loss: 0.0433 - val_loss: 0.0409\n",
      "Epoch 31/60\n",
      "2/2 [==============================] - 0s 29ms/step - loss: 0.0432 - val_loss: 0.0409\n",
      "Epoch 32/60\n",
      "2/2 [==============================] - 0s 27ms/step - loss: 0.0431 - val_loss: 0.0409\n",
      "Epoch 33/60\n",
      "2/2 [==============================] - 0s 27ms/step - loss: 0.0429 - val_loss: 0.0408\n",
      "Epoch 34/60\n",
      "2/2 [==============================] - 0s 26ms/step - loss: 0.0428 - val_loss: 0.0407\n",
      "Epoch 35/60\n",
      "2/2 [==============================] - 0s 28ms/step - loss: 0.0427 - val_loss: 0.0406\n",
      "Epoch 36/60\n",
      "2/2 [==============================] - 0s 32ms/step - loss: 0.0426 - val_loss: 0.0406\n",
      "Epoch 37/60\n",
      "2/2 [==============================] - 0s 27ms/step - loss: 0.0425 - val_loss: 0.0407\n",
      "Epoch 38/60\n",
      "2/2 [==============================] - 0s 28ms/step - loss: 0.0423 - val_loss: 0.0407\n",
      "Epoch 39/60\n",
      "2/2 [==============================] - 0s 27ms/step - loss: 0.0423 - val_loss: 0.0407\n",
      "Epoch 40/60\n",
      "2/2 [==============================] - 0s 28ms/step - loss: 0.0421 - val_loss: 0.0407\n",
      "Epoch 41/60\n",
      "2/2 [==============================] - 0s 27ms/step - loss: 0.0421 - val_loss: 0.0408\n",
      "Epoch 42/60\n",
      "2/2 [==============================] - 0s 28ms/step - loss: 0.0420 - val_loss: 0.0406\n",
      "Epoch 43/60\n",
      "2/2 [==============================] - 0s 34ms/step - loss: 0.0419 - val_loss: 0.0403\n",
      "Epoch 44/60\n",
      "2/2 [==============================] - 0s 31ms/step - loss: 0.0417 - val_loss: 0.0401\n",
      "Epoch 45/60\n",
      "2/2 [==============================] - 0s 29ms/step - loss: 0.0418 - val_loss: 0.0399\n",
      "Epoch 46/60\n",
      "2/2 [==============================] - 0s 29ms/step - loss: 0.0414 - val_loss: 0.0399\n",
      "Epoch 47/60\n",
      "2/2 [==============================] - 0s 26ms/step - loss: 0.0413 - val_loss: 0.0400\n",
      "Epoch 48/60\n",
      "2/2 [==============================] - 0s 29ms/step - loss: 0.0412 - val_loss: 0.0399\n",
      "Epoch 49/60\n",
      "2/2 [==============================] - 0s 30ms/step - loss: 0.0411 - val_loss: 0.0400\n",
      "Epoch 50/60\n",
      "2/2 [==============================] - 0s 28ms/step - loss: 0.0409 - val_loss: 0.0397\n",
      "Epoch 51/60\n",
      "2/2 [==============================] - 0s 28ms/step - loss: 0.0407 - val_loss: 0.0393\n",
      "Epoch 52/60\n",
      "2/2 [==============================] - 0s 31ms/step - loss: 0.0408 - val_loss: 0.0389\n",
      "Epoch 53/60\n",
      "2/2 [==============================] - 0s 29ms/step - loss: 0.0405 - val_loss: 0.0390\n",
      "Epoch 54/60\n",
      "2/2 [==============================] - 0s 30ms/step - loss: 0.0403 - val_loss: 0.0390\n",
      "Epoch 55/60\n",
      "2/2 [==============================] - 0s 27ms/step - loss: 0.0400 - val_loss: 0.0389\n",
      "Epoch 56/60\n",
      "2/2 [==============================] - 0s 25ms/step - loss: 0.0400 - val_loss: 0.0388\n",
      "Epoch 57/60\n",
      "2/2 [==============================] - 0s 27ms/step - loss: 0.0399 - val_loss: 0.0386\n",
      "Epoch 58/60\n",
      "2/2 [==============================] - 0s 29ms/step - loss: 0.0395 - val_loss: 0.0381\n",
      "Epoch 59/60\n",
      "2/2 [==============================] - 0s 33ms/step - loss: 0.0397 - val_loss: 0.0377\n",
      "Epoch 60/60\n",
      "2/2 [==============================] - 0s 28ms/step - loss: 0.0392 - val_loss: 0.0376\n",
      "1.6061075143539543e+20\n"
     ]
    }
   ],
   "source": [
    "mill=dataa[['메밀_x','메밀_y']]\n",
    "data=mill.values\n",
    "train = data[:(len(data) - int(len(data)*0.3))]\n",
    "test = data[:int(len(data)*0.3)]\n",
    "transformer = MinMaxScaler()\n",
    "train = transformer.fit_transform(train)\n",
    "test = transformer.transform(test)\n",
    "\n",
    "sequence_length = 7\n",
    "window_length = sequence_length + 1\n",
    "\n",
    "x_train = []\n",
    "y_train = []\n",
    "for i in range(0, len(train) - window_length + 1):\n",
    "    window = train[i:i + window_length, :]\n",
    "    x_train.append(window[:-1])\n",
    "    y_train.append(window[-1])\n",
    "x_train = np.array(x_train)\n",
    "y_train = np.array(y_train)\n",
    "\n",
    "x_test = []\n",
    "y_test = []\n",
    "for i in range(0, len(test) - window_length + 1):\n",
    "    window = test[i:i + window_length, :]\n",
    "    x_test.append(window[:-1])\n",
    "    y_test.append(window[-1])\n",
    "x_test = np.array(x_test)\n",
    "y_test = np.array(y_test)\n",
    "\n",
    "model.compile(loss='mean_squared_error', optimizer=Adam(lr=0.01))\n",
    "model.fit(x_train, y_train, epochs=60, validation_data=(x_test, y_test))\n",
    "y_predict = model.predict(x_test)\n",
    "y_predict_inverse=transformer.inverse_transform(y_predict)\n",
    "y_test_inverse=transformer.inverse_transform(y_test)\n",
    "print(mean_absolute_percentage_error(y_test_inverse,y_predict_inverse))"
   ]
  },
  {
   "cell_type": "markdown",
   "metadata": {
    "id": "uteY24NLnOHx"
   },
   "source": [
    "#기타 콩 수입량과 가격"
   ]
  },
  {
   "cell_type": "code",
   "execution_count": 53,
   "metadata": {
    "colab": {
     "base_uri": "https://localhost:8080/"
    },
    "id": "Z14_U0zQnRKw",
    "outputId": "284c48a3-a695-495a-d7a6-40250c7f6689"
   },
   "outputs": [
    {
     "name": "stderr",
     "output_type": "stream",
     "text": [
      "/usr/local/lib/python3.7/dist-packages/keras/optimizer_v2/adam.py:105: UserWarning: The `lr` argument is deprecated, use `learning_rate` instead.\n",
      "  super(Adam, self).__init__(name, **kwargs)\n"
     ]
    },
    {
     "name": "stdout",
     "output_type": "stream",
     "text": [
      "Epoch 1/60\n",
      "2/2 [==============================] - 2s 480ms/step - loss: 0.0541 - val_loss: 0.0313\n",
      "Epoch 2/60\n",
      "2/2 [==============================] - 0s 27ms/step - loss: 0.0344 - val_loss: 0.0215\n",
      "Epoch 3/60\n",
      "2/2 [==============================] - 0s 26ms/step - loss: 0.0304 - val_loss: 0.0184\n",
      "Epoch 4/60\n",
      "2/2 [==============================] - 0s 34ms/step - loss: 0.0338 - val_loss: 0.0179\n",
      "Epoch 5/60\n",
      "2/2 [==============================] - 0s 28ms/step - loss: 0.0317 - val_loss: 0.0198\n",
      "Epoch 6/60\n",
      "2/2 [==============================] - 0s 27ms/step - loss: 0.0293 - val_loss: 0.0201\n",
      "Epoch 7/60\n",
      "2/2 [==============================] - 0s 30ms/step - loss: 0.0278 - val_loss: 0.0202\n",
      "Epoch 8/60\n",
      "2/2 [==============================] - 0s 27ms/step - loss: 0.0279 - val_loss: 0.0214\n",
      "Epoch 9/60\n",
      "2/2 [==============================] - 0s 28ms/step - loss: 0.0287 - val_loss: 0.0216\n",
      "Epoch 10/60\n",
      "2/2 [==============================] - 0s 28ms/step - loss: 0.0286 - val_loss: 0.0219\n",
      "Epoch 11/60\n",
      "2/2 [==============================] - 0s 28ms/step - loss: 0.0280 - val_loss: 0.0219\n",
      "Epoch 12/60\n",
      "2/2 [==============================] - 0s 29ms/step - loss: 0.0275 - val_loss: 0.0205\n",
      "Epoch 13/60\n",
      "2/2 [==============================] - 0s 27ms/step - loss: 0.0272 - val_loss: 0.0188\n",
      "Epoch 14/60\n",
      "2/2 [==============================] - 0s 28ms/step - loss: 0.0271 - val_loss: 0.0178\n",
      "Epoch 15/60\n",
      "2/2 [==============================] - 0s 29ms/step - loss: 0.0274 - val_loss: 0.0175\n",
      "Epoch 16/60\n",
      "2/2 [==============================] - 0s 31ms/step - loss: 0.0272 - val_loss: 0.0183\n",
      "Epoch 17/60\n",
      "2/2 [==============================] - 0s 27ms/step - loss: 0.0270 - val_loss: 0.0190\n",
      "Epoch 18/60\n",
      "2/2 [==============================] - 0s 28ms/step - loss: 0.0269 - val_loss: 0.0192\n",
      "Epoch 19/60\n",
      "2/2 [==============================] - 0s 27ms/step - loss: 0.0266 - val_loss: 0.0183\n",
      "Epoch 20/60\n",
      "2/2 [==============================] - 0s 28ms/step - loss: 0.0265 - val_loss: 0.0185\n",
      "Epoch 21/60\n",
      "2/2 [==============================] - 0s 31ms/step - loss: 0.0264 - val_loss: 0.0185\n",
      "Epoch 22/60\n",
      "2/2 [==============================] - 0s 33ms/step - loss: 0.0264 - val_loss: 0.0186\n",
      "Epoch 23/60\n",
      "2/2 [==============================] - 0s 27ms/step - loss: 0.0262 - val_loss: 0.0182\n",
      "Epoch 24/60\n",
      "2/2 [==============================] - 0s 29ms/step - loss: 0.0267 - val_loss: 0.0173\n",
      "Epoch 25/60\n",
      "2/2 [==============================] - 0s 28ms/step - loss: 0.0259 - val_loss: 0.0177\n",
      "Epoch 26/60\n",
      "2/2 [==============================] - 0s 27ms/step - loss: 0.0261 - val_loss: 0.0184\n",
      "Epoch 27/60\n",
      "2/2 [==============================] - 0s 27ms/step - loss: 0.0259 - val_loss: 0.0178\n",
      "Epoch 28/60\n",
      "2/2 [==============================] - 0s 29ms/step - loss: 0.0256 - val_loss: 0.0169\n",
      "Epoch 29/60\n",
      "2/2 [==============================] - 0s 28ms/step - loss: 0.0256 - val_loss: 0.0165\n",
      "Epoch 30/60\n",
      "2/2 [==============================] - 0s 29ms/step - loss: 0.0255 - val_loss: 0.0168\n",
      "Epoch 31/60\n",
      "2/2 [==============================] - 0s 25ms/step - loss: 0.0255 - val_loss: 0.0178\n",
      "Epoch 32/60\n",
      "2/2 [==============================] - 0s 32ms/step - loss: 0.0254 - val_loss: 0.0179\n",
      "Epoch 33/60\n",
      "2/2 [==============================] - 0s 29ms/step - loss: 0.0252 - val_loss: 0.0167\n",
      "Epoch 34/60\n",
      "2/2 [==============================] - 0s 27ms/step - loss: 0.0250 - val_loss: 0.0160\n",
      "Epoch 35/60\n",
      "2/2 [==============================] - 0s 31ms/step - loss: 0.0250 - val_loss: 0.0160\n",
      "Epoch 36/60\n",
      "2/2 [==============================] - 0s 31ms/step - loss: 0.0248 - val_loss: 0.0164\n",
      "Epoch 37/60\n",
      "2/2 [==============================] - 0s 28ms/step - loss: 0.0248 - val_loss: 0.0173\n",
      "Epoch 38/60\n",
      "2/2 [==============================] - 0s 29ms/step - loss: 0.0247 - val_loss: 0.0167\n",
      "Epoch 39/60\n",
      "2/2 [==============================] - 0s 28ms/step - loss: 0.0246 - val_loss: 0.0157\n",
      "Epoch 40/60\n",
      "2/2 [==============================] - 0s 35ms/step - loss: 0.0244 - val_loss: 0.0158\n",
      "Epoch 41/60\n",
      "2/2 [==============================] - 0s 30ms/step - loss: 0.0243 - val_loss: 0.0159\n",
      "Epoch 42/60\n",
      "2/2 [==============================] - 0s 30ms/step - loss: 0.0243 - val_loss: 0.0168\n",
      "Epoch 43/60\n",
      "2/2 [==============================] - 0s 38ms/step - loss: 0.0240 - val_loss: 0.0165\n",
      "Epoch 44/60\n",
      "2/2 [==============================] - 0s 30ms/step - loss: 0.0240 - val_loss: 0.0157\n",
      "Epoch 45/60\n",
      "2/2 [==============================] - 0s 34ms/step - loss: 0.0237 - val_loss: 0.0157\n",
      "Epoch 46/60\n",
      "2/2 [==============================] - 0s 32ms/step - loss: 0.0236 - val_loss: 0.0158\n",
      "Epoch 47/60\n",
      "2/2 [==============================] - 0s 29ms/step - loss: 0.0239 - val_loss: 0.0157\n",
      "Epoch 48/60\n",
      "2/2 [==============================] - 0s 29ms/step - loss: 0.0249 - val_loss: 0.0171\n",
      "Epoch 49/60\n",
      "2/2 [==============================] - 0s 28ms/step - loss: 0.0237 - val_loss: 0.0155\n",
      "Epoch 50/60\n",
      "2/2 [==============================] - 0s 31ms/step - loss: 0.0231 - val_loss: 0.0152\n",
      "Epoch 51/60\n",
      "2/2 [==============================] - 0s 30ms/step - loss: 0.0231 - val_loss: 0.0154\n",
      "Epoch 52/60\n",
      "2/2 [==============================] - 0s 28ms/step - loss: 0.0228 - val_loss: 0.0157\n",
      "Epoch 53/60\n",
      "2/2 [==============================] - 0s 36ms/step - loss: 0.0229 - val_loss: 0.0153\n",
      "Epoch 54/60\n",
      "2/2 [==============================] - 0s 28ms/step - loss: 0.0225 - val_loss: 0.0153\n",
      "Epoch 55/60\n",
      "2/2 [==============================] - 0s 26ms/step - loss: 0.0224 - val_loss: 0.0152\n",
      "Epoch 56/60\n",
      "2/2 [==============================] - 0s 34ms/step - loss: 0.0221 - val_loss: 0.0152\n",
      "Epoch 57/60\n",
      "2/2 [==============================] - 0s 28ms/step - loss: 0.0224 - val_loss: 0.0154\n",
      "Epoch 58/60\n",
      "2/2 [==============================] - 0s 29ms/step - loss: 0.0222 - val_loss: 0.0147\n",
      "Epoch 59/60\n",
      "2/2 [==============================] - 0s 31ms/step - loss: 0.0218 - val_loss: 0.0146\n",
      "Epoch 60/60\n",
      "2/2 [==============================] - 0s 34ms/step - loss: 0.0219 - val_loss: 0.0146\n",
      "0.119548520924733\n"
     ]
    }
   ],
   "source": [
    "ect=dataa[['기타콩_x','기타콩_y']]\n",
    "data=ect.values\n",
    "train = data[:(len(data) - int(len(data)*0.3))]\n",
    "test = data[:int(len(data)*0.3)]\n",
    "transformer = MinMaxScaler()\n",
    "train = transformer.fit_transform(train)\n",
    "test = transformer.transform(test)\n",
    "\n",
    "sequence_length = 7\n",
    "window_length = sequence_length + 1\n",
    "\n",
    "x_train = []\n",
    "y_train = []\n",
    "for i in range(0, len(train) - window_length + 1):\n",
    "    window = train[i:i + window_length, :]\n",
    "    x_train.append(window[:-1])\n",
    "    y_train.append(window[-1])\n",
    "x_train = np.array(x_train)\n",
    "y_train = np.array(y_train)\n",
    "\n",
    "x_test = []\n",
    "y_test = []\n",
    "for i in range(0, len(test) - window_length + 1):\n",
    "    window = test[i:i + window_length, :]\n",
    "    x_test.append(window[:-1])\n",
    "    y_test.append(window[-1])\n",
    "x_test = np.array(x_test)\n",
    "y_test = np.array(y_test)\n",
    "\n",
    "model.compile(loss='mean_squared_error', optimizer=Adam(lr=0.01))\n",
    "model.fit(x_train, y_train, epochs=60, validation_data=(x_test, y_test))\n",
    "y_predict = model.predict(x_test)\n",
    "y_predict_inverse=transformer.inverse_transform(y_predict)\n",
    "y_test_inverse=transformer.inverse_transform(y_test)\n",
    "print(mean_absolute_percentage_error(y_test_inverse,y_predict_inverse))"
   ]
  },
  {
   "cell_type": "markdown",
   "metadata": {
    "id": "JHOcGAzPs3Ea"
   },
   "source": [
    "여기부터 시계열 해보기\n"
   ]
  },
  {
   "cell_type": "code",
   "execution_count": 18,
   "metadata": {
    "colab": {
     "base_uri": "https://localhost:8080/",
     "height": 531
    },
    "id": "FHDB-7n5mWWB",
    "outputId": "2270f1c2-46ee-4b26-c550-d91e74767e76"
   },
   "outputs": [
    {
     "data": {
      "text/plain": [
       "[<matplotlib.lines.Line2D at 0x7f4a9fb23e10>,\n",
       " <matplotlib.lines.Line2D at 0x7f4aa3c4bf50>]"
      ]
     },
     "execution_count": 18,
     "metadata": {},
     "output_type": "execute_result"
    },
    {
     "data": {
      "image/png": "[encoded data removed]",
      "text/plain": [
       "<Figure size 1440x576 with 1 Axes>"
      ]
     },
     "metadata": {
      "needs_background": "light"
     },
     "output_type": "display_data"
    }
   ],
   "source": [
    "#eda\n",
    "plt.figure(figsize=(20,8))\n",
    "plt.plot(df['날짜'], df[['쌀_x','쌀_y']])"
   ]
  },
  {
   "cell_type": "code",
   "execution_count": 25,
   "metadata": {
    "colab": {
     "base_uri": "https://localhost:8080/",
     "height": 511
    },
    "id": "RuQmX-9HVZiv",
    "outputId": "dbfb18db-7b35-4b1a-854f-2a6e1bda95c9"
   },
   "outputs": [
    {
     "data": {
      "text/plain": [
       "<matplotlib.axes._subplots.AxesSubplot at 0x7f4aa0a3bf90>"
      ]
     },
     "execution_count": 25,
     "metadata": {},
     "output_type": "execute_result"
    },
    {
     "name": "stderr",
     "output_type": "stream",
     "text": [
      "/usr/local/lib/python3.7/dist-packages/matplotlib/backends/backend_agg.py:214: RuntimeWarning: Glyph 45216 missing from current font.\n",
      "  font.set_text(s, 0.0, flags=flags)\n",
      "/usr/local/lib/python3.7/dist-packages/matplotlib/backends/backend_agg.py:214: RuntimeWarning: Glyph 51676 missing from current font.\n",
      "  font.set_text(s, 0.0, flags=flags)\n",
      "/usr/local/lib/python3.7/dist-packages/matplotlib/backends/backend_agg.py:183: RuntimeWarning: Glyph 45216 missing from current font.\n",
      "  font.set_text(s, 0, flags=flags)\n",
      "/usr/local/lib/python3.7/dist-packages/matplotlib/backends/backend_agg.py:183: RuntimeWarning: Glyph 51676 missing from current font.\n",
      "  font.set_text(s, 0, flags=flags)\n",
      "/usr/local/lib/python3.7/dist-packages/matplotlib/backends/backend_agg.py:214: RuntimeWarning: Glyph 49920 missing from current font.\n",
      "  font.set_text(s, 0.0, flags=flags)\n",
      "/usr/local/lib/python3.7/dist-packages/matplotlib/backends/backend_agg.py:183: RuntimeWarning: Glyph 49920 missing from current font.\n",
      "  font.set_text(s, 0, flags=flags)\n"
     ]
    },
    {
     "data": {
      "image/png": "[encoded data removed]",
      "text/plain": [
       "<Figure size 432x288 with 1 Axes>"
      ]
     },
     "metadata": {
      "needs_background": "light"
     },
     "output_type": "display_data"
    }
   ],
   "source": [
    "#쌀가격만 시계열\n",
    "riceprice=dataa[['날짜','쌀_x']]\n",
    "riceprice.index=riceprice['날짜']\n",
    "riceprice.set_index('날짜',inplace=True)\n",
    "riceprice.plot()"
   ]
  },
  {
   "cell_type": "code",
   "execution_count": 26,
   "metadata": {
    "colab": {
     "base_uri": "https://localhost:8080/",
     "height": 808
    },
    "id": "VHBMhhZcZiLn",
    "outputId": "96ee6f8d-6eb8-49e8-993d-2b3039c75d1f"
   },
   "outputs": [
    {
     "data": {
      "image/png": "[encoded data removed]",
      "text/plain": [
       "<Figure size 432x288 with 1 Axes>"
      ]
     },
     "execution_count": 26,
     "metadata": {},
     "output_type": "execute_result"
    },
    {
     "data": {
      "image/png": "[encoded data removed]",
      "text/plain": [
       "<Figure size 432x288 with 1 Axes>"
      ]
     },
     "metadata": {
      "needs_background": "light"
     },
     "output_type": "display_data"
    },
    {
     "data": {
      "image/png": "[encoded data removed]",
      "text/plain": [
       "<Figure size 432x288 with 1 Axes>"
      ]
     },
     "metadata": {
      "needs_background": "light"
     },
     "output_type": "display_data"
    }
   ],
   "source": [
    "plot_acf(riceprice)\n",
    "plot_pacf(riceprice)"
   ]
  },
  {
   "cell_type": "code",
   "execution_count": null,
   "metadata": {
    "colab": {
     "base_uri": "https://localhost:8080/"
    },
    "id": "szoZWQymcF9u",
    "outputId": "86c77045-5ee2-401d-d40f-80c3eee96a38"
   },
   "outputs": [
    {
     "name": "stdout",
     "output_type": "stream",
     "text": [
      "                             ARIMA Model Results                              \n",
      "==============================================================================\n",
      "Dep. Variable:                  D.쌀_x   No. Observations:                   99\n",
      "Model:                 ARIMA(1, 1, 0)   Log Likelihood               -1836.266\n",
      "Method:                       css-mle   S.D. of innovations       27472964.824\n",
      "Date:                Wed, 24 Nov 2021   AIC                           3676.531\n",
      "Time:                        06:21:51   BIC                           3681.722\n",
      "Sample:                    02-01-2012   HQIC                          3678.631\n",
      "                         - 04-01-2020                                         \n",
      "===============================================================================\n",
      "                  coef    std err          z      P>|z|      [0.025      0.975]\n",
      "-------------------------------------------------------------------------------\n",
      "ar.L1.D.쌀_x    -0.3030      0.095     -3.184      0.002      -0.490      -0.116\n",
      "                                    Roots                                    \n",
      "=============================================================================\n",
      "                  Real          Imaginary           Modulus         Frequency\n",
      "-----------------------------------------------------------------------------\n",
      "AR.1           -3.3000           +0.0000j            3.3000            0.5000\n",
      "-----------------------------------------------------------------------------\n"
     ]
    },
    {
     "name": "stderr",
     "output_type": "stream",
     "text": [
      "/usr/local/lib/python3.7/dist-packages/statsmodels/tsa/base/tsa_model.py:165: ValueWarning: No frequency information was provided, so inferred frequency MS will be used.\n",
      "  % freq, ValueWarning)\n",
      "/usr/local/lib/python3.7/dist-packages/statsmodels/tsa/base/tsa_model.py:165: ValueWarning: No frequency information was provided, so inferred frequency MS will be used.\n",
      "  % freq, ValueWarning)\n",
      "/usr/local/lib/python3.7/dist-packages/statsmodels/base/model.py:512: ConvergenceWarning: Maximum Likelihood optimization failed to converge. Check mle_retvals\n",
      "  \"Check mle_retvals\", ConvergenceWarning)\n"
     ]
    }
   ],
   "source": [
    "#시계열분석\n",
    "from statsmodels.tsa.arima_model import ARIMA, ARIMAResults\n",
    "model=ARIMA(riceprice, order=(1,1,0))\n",
    "model_fit=model.fit(trend='nc', full_output=True, disp=0)\n",
    "print(model_fit.summary())"
   ]
  },
  {
   "cell_type": "code",
   "execution_count": null,
   "metadata": {
    "colab": {
     "base_uri": "https://localhost:8080/",
     "height": 628
    },
    "id": "MGE9PuAzcGC3",
    "outputId": "d11b95b8-dcac-4693-bcf7-1f753dc79ff3"
   },
   "outputs": [
    {
     "name": "stderr",
     "output_type": "stream",
     "text": [
      "/usr/local/lib/python3.7/dist-packages/matplotlib/backends/backend_agg.py:214: RuntimeWarning: Glyph 49920 missing from current font.\n",
      "  font.set_text(s, 0.0, flags=flags)\n",
      "/usr/local/lib/python3.7/dist-packages/matplotlib/backends/backend_agg.py:183: RuntimeWarning: Glyph 49920 missing from current font.\n",
      "  font.set_text(s, 0, flags=flags)\n"
     ]
    },
    {
     "data": {
      "image/png": "[encoded data removed]",
      "text/plain": [
       "<Figure size 432x288 with 1 Axes>"
      ]
     },
     "execution_count": 115,
     "metadata": {},
     "output_type": "execute_result"
    },
    {
     "data": {
      "image/png": "[encoded data removed]",
      "text/plain": [
       "<Figure size 432x288 with 1 Axes>"
      ]
     },
     "metadata": {
      "needs_background": "light"
     },
     "output_type": "display_data"
    }
   ],
   "source": [
    "model_fit.plot_predict()"
   ]
  },
  {
   "cell_type": "code",
   "execution_count": null,
   "metadata": {
    "colab": {
     "base_uri": "https://localhost:8080/"
    },
    "id": "m5Nyh7GQecXH",
    "outputId": "b01ac745-481d-470a-890f-bef7b5009613"
   },
   "outputs": [
    {
     "data": {
      "text/plain": [
       "(array([39627013.82537305]),\n",
       " array([27472964.82415754]),\n",
       " array([[-14219007.77851151,  93473035.42925762]]))"
      ]
     },
     "execution_count": 116,
     "metadata": {},
     "output_type": "execute_result"
    }
   ],
   "source": [
    "fore=model_fit.forecast(steps=1)\n",
    "fore"
   ]
  },
  {
   "cell_type": "code",
   "execution_count": null,
   "metadata": {
    "colab": {
     "base_uri": "https://localhost:8080/"
    },
    "id": "VDHSdLW9ema1",
    "outputId": "a3b1e61b-ed94-4f6e-8cd7-bbf559bbad60"
   },
   "outputs": [
    {
     "data": {
      "text/plain": [
       "35972518.1"
      ]
     },
     "execution_count": 120,
     "metadata": {},
     "output_type": "execute_result"
    }
   ],
   "source": [
    "test.iloc[0,1] #원 데이터와 비교해보니 값이 비슷하게 예측함을 알 수 있다."
   ]
  }
 ],
 "metadata": {
  "colab": {
   "collapsed_sections": [],
   "name": "기계학습개론과제-농산물.ipynb",
   "provenance": []
  },
  "kernelspec": {
   "display_name": "Python 3 (ipykernel)",
   "language": "python",
   "name": "python3"
  },
  "language_info": {
   "codemirror_mode": {
    "name": "ipython",
    "version": 3
   },
   "file_extension": ".py",
   "mimetype": "text/x-python",
   "name": "python",
   "nbconvert_exporter": "python",
   "pygments_lexer": "ipython3",
   "version": "3.9.7"
  }
 },
 "nbformat": 4,
 "nbformat_minor": 1
}
